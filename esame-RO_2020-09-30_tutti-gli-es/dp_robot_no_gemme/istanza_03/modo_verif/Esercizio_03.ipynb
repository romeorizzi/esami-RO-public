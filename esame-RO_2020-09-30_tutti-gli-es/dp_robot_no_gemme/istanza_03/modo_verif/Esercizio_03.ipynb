{
 "cells": [
  {
   "cell_type": "markdown",
   "metadata": {
    "deletable": false,
    "editable": false,
    "hide_input": true,
    "init_cell": true,
    "tags": [
     "run_start"
    ]
   },
   "source": [
    "# ESERCIZIO: Conteggio di cammini in una griglia rettangolare con celle proibite #\n"
   ]
  },
  {
   "cell_type": "code",
   "execution_count": null,
   "metadata": {
    "deletable": false,
    "editable": false,
    "hide_input": true,
    "init_cell": true,
    "tags": [
     "run_start",
     "noexport"
    ]
   },
   "outputs": [],
   "source": [
    "import os\n",
    "from IPython.core.display import display, HTML, Markdown, clear_output, Javascript\n",
    "import ipywidgets as widgets\n",
    "from IPython.display import IFrame, display\n",
    "import numpy as np\n"
   ]
  },
  {
   "cell_type": "code",
   "execution_count": null,
   "metadata": {
    "deletable": false,
    "editable": false,
    "hide_input": true,
    "init_cell": true,
    "tags": [
     "run_start",
     "noexport"
    ]
   },
   "outputs": [],
   "source": [
    "    from tabulate import tabulate\n",
    "    import copy\n",
    "    n_tasks = 6;\n",
    "    arr_point = [-1] * n_tasks;"
   ]
  },
  {
   "cell_type": "code",
   "execution_count": null,
   "metadata": {
    "deletable": false,
    "editable": false,
    "hide_input": true,
    "init_cell": true,
    "tags": [
     "noexport"
    ]
   },
   "outputs": [],
   "source": [
    "\n",
    "    campo_minato = [[' ', ' ', ' ', ' ', ' ', ' ', ' ', '*', ' '], [' ', ' ', ' ', ' ', '*', '*', ' ', ' ', ' '], [' ', '*', ' ', '*', ' ', ' ', ' ', ' ', ' '], [' ', ' ', ' ', ' ', ' ', ' ', ' ', '*', ' '], [' ', ' ', '*', ' ', '*', ' ', ' ', ' ', ' '], [' ', ' ', ' ', ' ', ' ', ' ', '*', '*', ' '], [' ', '*', ' ', ' ', ' ', ' ', ' ', ' ', ' '], [' ', ' ', ' ', ' ', ' ', ' ', ' ', ' ', ' ']]\n",
    "    m = len(campo_minato)\n",
    "    n = len(campo_minato[0])\n",
    "    mappa = [ [\"*\"]*(n+1) ] + [ ([\"*\"] + r) for r in campo_minato]\n",
    "    "
   ]
  },
  {
   "cell_type": "code",
   "execution_count": null,
   "metadata": {
    "deletable": false,
    "editable": false,
    "hide_input": true,
    "init_cell": true,
    "tags": [
     "noexport"
    ]
   },
   "outputs": [],
   "source": [
    "    def visualizza(env):\n",
    "        if len(env)==m+1 and len(env[0])==n+1:\n",
    "            index=[chr(65+i) for i in range(m)]\n",
    "            aux=[r[1:] for r in env[1:]]\n",
    "\n",
    "\n",
    "        if len(env)==m+2 and len(env[0])==n+2:\n",
    "            index=[chr(65+i) for i in range(m)]\n",
    "            aux=[r[1:-1] for r in env[1:-1]]\n",
    "\n",
    "        columns=[str(i) for i in range(1,n+1)]\n",
    "        print(tabulate(aux, headers=columns, tablefmt='fancy_grid', showindex=index))\n",
    "\n",
    "\n",
    "    def evaluation_format(answ, pt_green,pt_red, index_pt):\n",
    "        pt_blue=0\n",
    "        if pt_green!=0:\n",
    "            if answ == \"Si\":\n",
    "                pt_green=pt_red\n",
    "                pt_red=0\n",
    "                pt_blue=pt_green\n",
    "            else:\n",
    "                pt_blue=pt_red-pt_green\n",
    "                pt_red=0\n",
    "        arr_point[index_pt]=pt_green\n",
    "        file = open(\"points.txt\", \"w\")\n",
    "        file.write(str(arr_point))\n",
    "        file.close()\n",
    "        return f\"{answ}. Totalizzeresti <span style='color:green'>[{pt_green} safe pt]</span>,                                         <span style='color:blue'>[{pt_blue} possible pt]</span>,                                         <span style='color:red'>[{pt_red} out of reach pt]</span>.<br>\"\n",
    "\n",
    "    def check_num_paths_to(mappa, num_paths_to, pt_green, pt_red, index_pt, return_only_boolean=False):\n",
    "        if len(num_paths_to) != m+1:\n",
    "            if return_only_boolean:\n",
    "                    return False\n",
    "            return evaluation_format(\"No\", 0, pt_red,index_pt)+f\"Le righe della matrice $num\\_paths\\_to$ devono essere $m+1=${m+1}, non {len(num_paths_to)}.\"\n",
    "        if len(num_paths_to[0]) != n+1:\n",
    "            if return_only_boolean:\n",
    "                    return False\n",
    "            return evaluation_format(\"No\", 0, pt_red, index_pt)+f\"Le colonne della matrice $num\\_paths\\_to$ devono essere $n+1=${n+1}, non {len(num_paths_to[0])}.\"\n",
    "\n",
    "        for i in range (0,m):\n",
    "            if num_paths_to[i][0]!=0:\n",
    "                if return_only_boolean:\n",
    "                    return False\n",
    "                return evaluation_format(\"No\", 0, pt_red, index_pt)+f\"Attenzione, i cammini devono partire dalla cella $(1,1)$ e pertanto $num\\_paths\\_to[${i}$][0] = 0$\"\n",
    "        for j in range (0,n):\n",
    "            if num_paths_to[0][j]!=0:\n",
    "                if return_only_boolean:\n",
    "                    return False\n",
    "                return evaluation_format(\"No\", 0, pt_red, index_pt)+f\"Attenzione, i cammini devono partire dalla cella $(1,1)$ e pertanto $num\\_paths\\_to[0][${j}$] = 0$\"\n",
    "        num_paths_to_forgiving = copy.deepcopy(num_paths_to)\n",
    "        num_paths_to_forgiving[1][1] = 1\n",
    "        for i in range(m,0,-1):\n",
    "            for j in range (n,0,-1):\n",
    "                if i==1 and j==1:\n",
    "                    if return_only_boolean:\n",
    "                        return True\n",
    "                    return  evaluation_format(\"Si\", pt_green, pt_red, index_pt)+\"Non riscontro particolari problemi della tua versione della matrice $num\\_paths\\_to$.\"\n",
    "                if mappa[i][j]!=\"*\":\n",
    "                    if num_paths_to_forgiving[i][j]!=num_paths_to_forgiving[i-1][j]+num_paths_to_forgiving[i][j-1]:\n",
    "                        if return_only_boolean:\n",
    "                            return False\n",
    "                        return  evaluation_format(\"No\", 0, pt_red, index_pt)+\"Ti avviso: riscontro dei problemi nella tua versione della matrice $num\\_paths\\_to$.\"\n",
    "                elif num_paths_to_forgiving[i][j]!=0:\n",
    "                    if return_only_boolean:\n",
    "                        return False\n",
    "                    return  evaluation_format(\"No\", 0, pt_red, index_pt)+\"Ti avviso: riscontro dei problemi nella tua versione della matrice $num\\_paths\\_to$.\"\n",
    "\n",
    "\n",
    "    def check_num_paths_from(mappa, num_paths_from, pt_green, pt_red, index_pt, return_only_boolean=False):\n",
    "        if len(num_paths_from) != m+2:\n",
    "            if return_only_boolean:\n",
    "                return False\n",
    "            return evaluation_format(\"No\", 0, pt_red, index_pt)+f\"Le righe della matrice $num\\_paths\\_from$ devono essere $m+2=${m+2}, non {len(num_paths_from)}.\"\n",
    "        if len(num_paths_from[0]) != n+2:\n",
    "            if return_only_boolean:\n",
    "                    return False\n",
    "            return evaluation_format(\"No\", 0, pt_red, index_pt)+f\"Le colonne della matrice $num\\_paths\\_from$ devono essere $n+2=${n+2}, non {len(num_paths_from[0])}.\"\n",
    "\n",
    "        for i in range (0,m+1):\n",
    "            if num_paths_from[i][n+1]!=0:\n",
    "                if return_only_boolean:\n",
    "                    return False\n",
    "                return evaluation_format(\"No\", 0, pt_red, index_pt)+f\"Attenzione, i cammini devono partire dalla cella $(8,9)$ e pertanto $num\\_paths\\_from[${i}$][10] = 0$\"\n",
    "        for j in range (0,n+1):\n",
    "            if num_paths_from[m+1][j]!=0:\n",
    "                if return_only_boolean:\n",
    "                    return False\n",
    "                return evaluation_format(\"No\", 0, pt_red, index_pt)+f\"Attenzione, i cammini devono partire dalla cella $(8,9)$ e pertanto $num\\_paths\\_from[9][${j}$] = 0$\"\n",
    "        num_paths_from_forgiving = copy.deepcopy(num_paths_from)\n",
    "        num_paths_from_forgiving[m][n] = 1\n",
    "        for i in range(1,m-1):\n",
    "            for j in range (1,n-1):\n",
    "                if mappa[i][j]!=\"*\":\n",
    "                    if num_paths_from_forgiving[i][j]!=num_paths_from_forgiving[i+1][j]+num_paths_from_forgiving[i][j+1]:\n",
    "                        if return_only_boolean:\n",
    "                            return False\n",
    "                        return  evaluation_format(\"No\", 0, pt_red, index_pt)+\"Ti avviso: riscontro dei problemi nella tua versione della matrice $num\\_paths\\_from$.\"\n",
    "                elif num_paths_from_forgiving[i][j]!=0:\n",
    "                    if return_only_boolean:\n",
    "                        return False\n",
    "                    return  evaluation_format(\"No\", 0, pt_red, index_pt)+\"Ti avviso: riscontro dei problemi nella tua versione della matrice $num\\_paths\\_from$.\"\n",
    "        for i in range (1, m):\n",
    "            if mappa[i][n]!=\"*\":\n",
    "                if num_paths_from_forgiving[i][n]!=num_paths_from_forgiving[i+1][n]+num_paths_from_forgiving[i][n+1]:\n",
    "                    if return_only_boolean:\n",
    "                        return False\n",
    "                    return  evaluation_format(\"No\", 0, pt_red, index_pt)+\"Ti avviso: riscontro dei problemi nella tua versione della matrice $num\\_paths\\_from$.\"\n",
    "            elif num_paths_from_forgiving[i][n]!=0:\n",
    "                if return_only_boolean:\n",
    "                    return False\n",
    "                return  evaluation_format(\"No\", 0, pt_red, index_pt)+\"Ti avviso: riscontro dei problemi nella tua versione della matrice $num\\_paths\\_from$.\"\n",
    "        for j in range (1, n):\n",
    "            if mappa[m][j]!=\"*\":\n",
    "                if num_paths_from_forgiving[m][j]!=num_paths_from_forgiving[m+1][j]+num_paths_from_forgiving[m][j+1]:\n",
    "                    if return_only_boolean:\n",
    "                        return False\n",
    "                    return  evaluation_format(\"No\", 0, pt_red, index_pt)+\"Ti avviso: riscontro dei problemi nella tua versione della matrice $num\\_paths\\_from$.\"\n",
    "            elif num_paths_from_forgiving[m][j]!=0:\n",
    "                if return_only_boolean:\n",
    "                    return False\n",
    "                return  evaluation_format(\"No\", 0, pt_red, index_pt)+\"Ti avviso: riscontro dei problemi nella tua versione della matrice $num\\_paths\\_from$.\"\n",
    "        if return_only_boolean:\n",
    "            return True\n",
    "        return  evaluation_format(\"Si\", pt_green, pt_red, index_pt)+\"Non riscontro particolari problemi della tua versione della matrice $num\\_paths\\_from$.\"\n",
    "\n",
    "    def Latex_type(string):\n",
    "        return string.replace(\"_\", \"\\_\")\n",
    "\n",
    "    def visualizza_e_valuta(nome_matrice, matrice, pt_green, pt_red, index_pt):\n",
    "        display(Markdown(f\"La tua versione attuale della matrice ${Latex_type(nome_matrice)}$ è la seguente:\"))\n",
    "        visualizza(matrice)\n",
    "        display(Markdown(f\"<b>Validazione della tua matrice ${Latex_type(nome_matrice)}$:</b>\"))\n",
    "        display(Markdown(eval(f\"check_{nome_matrice}(mappa,matrice,pt_green, pt_red, index_pt)\")))\n",
    "    "
   ]
  },
  {
   "cell_type": "markdown",
   "metadata": {
    "deletable": false,
    "editable": false,
    "hide_input": true,
    "init_cell": true,
    "tags": [
     "noexport"
    ]
   },
   "source": [
    "<b>Nota</b>: Saper programmare non è la competenza che intendiamo valutare con questo esercizio.\n",
    "    Decidi tu, in piena libertà, se preferisci compilare le tabelle e le risposte a mano, oppure scrivere del codice che lo faccia per te\n",
    "    o che ti assista nelle misura che ti è più utile. Sei incoraggiato a ricercare l'approccio per te più pratico, sicuro e conveniente.\n",
    "    Non verranno pertanto attribuiti punti extra per chi scrive del codice. I punti ottenuti dalle risposte consegnate a chiusura sono l'unico elemento oggetto di valutazione.\n",
    "    In ogni caso, il feedback offerto dalle procedure di validazione rese disponibili è di grande aiuto.\n",
    "    Esso convalida la conformità delle tue risposte facendo anche presente a quanti dei punti previsti  le tue risposte possono ambire.\n",
    "    Per facilitare chi di voi volesse scrivere del codice a proprio supporto, abbiamo aggiunto alla mappa di $m$ righe ed $n$ colonne una riga e colonna iniziale (di indice zero), fatte interamente di mine, perchè non si crei confusione col fatto che gli indici di liste e array in programmazione partono da zero.\n",
    "    "
   ]
  },
  {
   "cell_type": "markdown",
   "metadata": {
    "deletable": false,
    "editable": false,
    "hide_input": true,
    "init_cell": true,
    "tags": []
   },
   "source": [
    "Un robot, inizialmente situato nella cella $A1=(1, 1)$, deve portarsi nella cella $H9=(8,9)$.Le celle che riportano il simbolo '*' contengono una mina od altre trapole mortali, ed il robot deve evitarle.I movimenti base possibili sono il passo verso destra (ad esempio il primo passo potrebbe avvenire dalla cella $A1$ alla cella $A2$) ed il passo verso il basso (ad esempio, come unica altra alternativa per il primo passo il robot potrebbe portarsi quindi nella cella $B1$).Quanti sono i possibili percorsi che può fare il robot per andare dalla cella $A1=(1, 1)$ alla cella $H9=(8,9)$?"
   ]
  },
  {
   "cell_type": "code",
   "execution_count": null,
   "metadata": {
    "deletable": false,
    "editable": false,
    "hide_input": true,
    "init_cell": true,
    "tags": [
     "noexport"
    ]
   },
   "outputs": [],
   "source": [
    "visualizza(mappa)"
   ]
  },
  {
   "cell_type": "markdown",
   "metadata": {
    "deletable": false,
    "editable": false,
    "hide_input": true,
    "init_cell": true,
    "tags": [
     "noexport"
    ]
   },
   "source": [
    "__Richiesta 1 [5 punti]__: A mano o tramite un programma componi la matrice $num\\_paths\\_to$ di dimensione $(m+1)\\times(n+1)$ e tale per cui in $num\\_paths\\_to[i][j]$ sia riposto il numero di cammini dalla cella $A1=(1,1)$ alla generica cella $(i,j)$, per ogni $i = 0,..., m+1$ e $j = 0,..., n+1$."
   ]
  },
  {
   "cell_type": "code",
   "execution_count": null,
   "metadata": {
    "deletable": false,
    "init_cell": true
   },
   "outputs": [],
   "source": [
    "num_paths_to=[\n",
    "\t\t[0, 0, 0, 0, 0, 0, 0, 0, 0, 0],\n",
    "\t\t[0, 0, 0, 0, 0, 0, 0, 0, 0, 0],\t\t# [' ', ' ', ' ', ' ', ' ', ' ', ' ', '*', ' ']\n",
    "\t\t[0, 0, 0, 0, 0, 0, 0, 0, 0, 0],\t\t# [' ', ' ', ' ', ' ', '*', '*', ' ', ' ', ' ']\n",
    "\t\t[0, 0, 0, 0, 0, 0, 0, 0, 0, 0],\t\t# [' ', '*', ' ', '*', ' ', ' ', ' ', ' ', ' ']\n",
    "\t\t[0, 0, 0, 0, 0, 0, 0, 0, 0, 0],\t\t# [' ', ' ', ' ', ' ', ' ', ' ', ' ', '*', ' ']\n",
    "\t\t[0, 0, 0, 0, 0, 0, 0, 0, 0, 0],\t\t# [' ', ' ', '*', ' ', '*', ' ', ' ', ' ', ' ']\n",
    "\t\t[0, 0, 0, 0, 0, 0, 0, 0, 0, 0],\t\t# [' ', ' ', ' ', ' ', ' ', ' ', '*', '*', ' ']\n",
    "\t\t[0, 0, 0, 0, 0, 0, 0, 0, 0, 0],\t\t# [' ', '*', ' ', ' ', ' ', ' ', ' ', ' ', ' ']\n",
    "\t\t[0, 0, 0, 0, 0, 0, 0, 0, 0, 0],\t\t# [' ', ' ', ' ', ' ', ' ', ' ', ' ', ' ', ' ']\n",
    "]"
   ]
  },
  {
   "cell_type": "code",
   "execution_count": null,
   "metadata": {
    "deletable": false,
    "editable": false,
    "hide_input": true,
    "init_cell": true
   },
   "outputs": [],
   "source": [
    "visualizza_e_valuta('num_paths_to',num_paths_to, pt_green=5, pt_red=5,index_pt=0)"
   ]
  },
  {
   "cell_type": "markdown",
   "metadata": {
    "deletable": false,
    "editable": false,
    "hide_input": true,
    "init_cell": true,
    "tags": [
     "noexport"
    ]
   },
   "source": [
    "__Richiesta 2 [5 punti]__: Componi ora una matrice $num\\_paths\\_from$ di dimensione $(m+2)\\times(n+2)$ e tale per cui in $num\\_paths\\_from[i][j]$, per ogni $i = 1,..., m+1$ e $j = 1,..., n+1$, sia riposto il numero di cammini dalla generica cella $(i,j)$ alla cella $H9=(8,9)$."
   ]
  },
  {
   "cell_type": "code",
   "execution_count": null,
   "metadata": {
    "deletable": false,
    "init_cell": true
   },
   "outputs": [],
   "source": [
    "num_paths_from=[\n",
    "\t\t[0, 0, 0, 0, 0, 0, 0, 0, 0, 0, 0],\n",
    "\t\t[0, 0, 0, 0, 0, 0, 0, 0, 0, 0, 0],\t\t# [' ', ' ', ' ', ' ', ' ', ' ', ' ', '*', ' ']\n",
    "\t\t[0, 0, 0, 0, 0, 0, 0, 0, 0, 0, 0],\t\t# [' ', ' ', ' ', ' ', '*', '*', ' ', ' ', ' ']\n",
    "\t\t[0, 0, 0, 0, 0, 0, 0, 0, 0, 0, 0],\t\t# [' ', '*', ' ', '*', ' ', ' ', ' ', ' ', ' ']\n",
    "\t\t[0, 0, 0, 0, 0, 0, 0, 0, 0, 0, 0],\t\t# [' ', ' ', ' ', ' ', ' ', ' ', ' ', '*', ' ']\n",
    "\t\t[0, 0, 0, 0, 0, 0, 0, 0, 0, 0, 0],\t\t# [' ', ' ', '*', ' ', '*', ' ', ' ', ' ', ' ']\n",
    "\t\t[0, 0, 0, 0, 0, 0, 0, 0, 0, 0, 0],\t\t# [' ', ' ', ' ', ' ', ' ', ' ', '*', '*', ' ']\n",
    "\t\t[0, 0, 0, 0, 0, 0, 0, 0, 0, 0, 0],\t\t# [' ', '*', ' ', ' ', ' ', ' ', ' ', ' ', ' ']\n",
    "\t\t[0, 0, 0, 0, 0, 0, 0, 0, 0, 0, 0],\t\t# [' ', ' ', ' ', ' ', ' ', ' ', ' ', ' ', ' ']\n",
    "\t\t[0, 0, 0, 0, 0, 0, 0, 0, 0, 0, 0],\n",
    "]"
   ]
  },
  {
   "cell_type": "code",
   "execution_count": null,
   "metadata": {
    "deletable": false,
    "editable": false,
    "hide_input": true,
    "init_cell": true
   },
   "outputs": [],
   "source": [
    "visualizza_e_valuta('num_paths_from',num_paths_from, pt_green=5, pt_red=5,index_pt=1)"
   ]
  },
  {
   "cell_type": "markdown",
   "metadata": {
    "deletable": false,
    "editable": false,
    "hide_input": true,
    "init_cell": true,
    "tags": [
     "noexport"
    ]
   },
   "source": [
    "__Richiesta 3 [5 punti]__: Quanti sono i percorsi con partenza in $A1=(1,1)$ e arrivo in $H9=(8,9)$."
   ]
  },
  {
   "cell_type": "markdown",
   "metadata": {
    "deletable": false,
    "init_cell": true
   },
   "source": [
    "Inserisci la risposta"
   ]
  },
  {
   "cell_type": "markdown",
   "metadata": {
    "deletable": false,
    "editable": false,
    "hide_input": true,
    "init_cell": true,
    "tags": [
     "noexport"
    ]
   },
   "source": [
    "__Richiesta 4 [10 punti]__: Quanti sono i percorsi con partenza in $B3=(2, 3)$ e arrivo in $H9=(8,9)$."
   ]
  },
  {
   "cell_type": "markdown",
   "metadata": {
    "deletable": false,
    "init_cell": true
   },
   "source": [
    "Inserisci la risposta"
   ]
  },
  {
   "cell_type": "markdown",
   "metadata": {
    "deletable": false,
    "editable": false,
    "hide_input": true,
    "init_cell": true,
    "tags": [
     "noexport"
    ]
   },
   "source": [
    "__Richiesta 5 [10 punti]__: Quanti sono i percorsi con partenza in $A1=(1,1)$ e arrivo in $G6=(7, 6)$?"
   ]
  },
  {
   "cell_type": "markdown",
   "metadata": {
    "deletable": false,
    "init_cell": true
   },
   "source": [
    "Inserisci la risposta"
   ]
  },
  {
   "cell_type": "markdown",
   "metadata": {
    "deletable": false,
    "editable": false,
    "hide_input": true,
    "init_cell": true,
    "tags": [
     "noexport"
    ]
   },
   "source": [
    "__Richiesta 6 [10 punti]__: Quanti sono i percorsi che partono da $A1=(1,1)$, passano da $E4=(5, 4)$, e arrivano in $H9=(8,9)$?"
   ]
  },
  {
   "cell_type": "markdown",
   "metadata": {
    "deletable": false,
    "init_cell": true
   },
   "source": [
    "Inserisci la risposta"
   ]
  },
  {
   "cell_type": "code",
   "execution_count": null,
   "metadata": {
    "deletable": false,
    "editable": false,
    "hide_input": true,
    "init_cell": true,
    "tags": [
     "run_start",
     "noexport"
    ]
   },
   "outputs": [],
   "source": [
    "import os\n",
    "import time\n",
    "from urllib.request import urlopen\n",
    "import nbformat\n",
    "from traitlets.config import Config\n",
    "from nbconvert import HTMLExporter\n",
    "from nbconvert import RSTExporter, NotebookExporter\n",
    "from IPython.display import Image, HTML, Javascript\n",
    "from datetime import datetime\n",
    "\n",
    "import shutil\n",
    "last ='preview_last/' #path of last submission\n",
    "old = 'preview_old/' #path of prevous submissions\n",
    "\n",
    "#hide alert buttons\n",
    "def hide_w(w):\n",
    "    for e in w:\n",
    "        e.layout.visibility = 'hidden'\n",
    "\n",
    "#show alert buttons\n",
    "def show_w(w):\n",
    "    for e in w:\n",
    "        e.layout.visibility = 'visible'\n",
    "\n",
    "def are_you_sure():\n",
    "    show_w(alert_buttons)\n",
    "\n",
    "label = widgets.Label(value=\"Un tuo elaborato era giÃ  stato precedentemente prodotto. Vuoi rimpiazzarlo con il presente?\")\n",
    "yes = widgets.Button(description=\"Si\", tooltip=\"Produce il nuovo elaborato. Esso diviene la versione attuale prendendo il posto del precedente\")\n",
    "no = widgets.Button(description=\"No\")\n",
    "\n",
    "alert_buttons = [label,yes,no]\n",
    "hide_w(alert_buttons)\n",
    "\n",
    "#move all files from last to old and save the new preview\n",
    "def yes_clicked(b):\n",
    "    files = os.listdir(last)\n",
    "    for f in files:\n",
    "        if f == '.ipynb_checkpoints':\n",
    "            continue\n",
    "        if not os.path.isdir('./preview_old'):\n",
    "            os.mkdir(old)\n",
    "        shutil.move(last+f, old)\n",
    "    display(Javascript('IPython.notebook.save_checkpoint();'))\n",
    "    now = datetime.now() # current date and time\n",
    "    date_time = now.strftime(\"%Y-%m-%d-%H-%M-%S\")\n",
    "    hname = 'Esercizio_03.ipynb'[:-6] + '_' + date_time\n",
    "    ! jupyter nbconvert Esercizio_03.ipynb --to html_embed --output=$hname --output-dir=./preview_last/ --TagRemovePreprocessor.remove_cell_tags=\"['noexport']\"\n",
    "    display(Javascript('window.open(\"./preview_last/' + hname + '.html\")'))\n",
    "    hide_w(alert_buttons)\n",
    "def no_clicked(b):\n",
    "    hide_w(alert_buttons)\n",
    "\n",
    "\n",
    "def generate_preview_HTML(_):\n",
    "    if not os.path.isdir('./preview_last'):\n",
    "        os.mkdir(last)\n",
    "    directory= os.listdir(last)\n",
    "    if len(directory) <1:\n",
    "        display(Javascript('IPython.notebook.save_checkpoint();'))\n",
    "        now = datetime.now() # current date and time\n",
    "        date_time = now.strftime(\"%Y-%m-%d-%H-%M-%S\")\n",
    "        hname = 'Esercizio_03.ipynb'[:-6] + '_' + date_time\n",
    "        ! jupyter nbconvert Esercizio_03.ipynb --to html_embed --output=$hname --output-dir=./preview_last/ --TagRemovePreprocessor.remove_cell_tags=\"['noexport']\"\n",
    "        display(Javascript('window.open(\"./preview_last/' + hname + '.html\")'))\n",
    "    else:\n",
    "        are_you_sure()\n",
    "\n",
    "\n",
    "button = widgets.Button(description=\"Salva & Esporta\", tooltip=\"Esporta il foglio Jupyter in HTML nella cartella preview\")\n",
    "output = widgets.Output()\n",
    "button.on_click(generate_preview_HTML)\n",
    "yes.on_click(yes_clicked)\n",
    "no.on_click(no_clicked)\n",
    "h_box1 = widgets.HBox([button])\n",
    "h_box2 = widgets.HBox([label,yes,no])\n",
    "display(widgets.VBox([h_box1,h_box2]))\n"
   ]
  }
 ],
 "metadata": {},
 "nbformat": 4,
 "nbformat_minor": 4
}
