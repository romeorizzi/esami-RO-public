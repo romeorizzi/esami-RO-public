{
 "cells": [
  {
   "cell_type": "code",
   "execution_count": 12,
   "metadata": {
    "deletable": false,
    "editable": false,
    "hide_input": true,
    "init_cell": true,
    "tags": [
     "run_start",
     "noexport"
    ]
   },
   "outputs": [],
   "source": [
    "import os\n",
    "from IPython.core.display import display, HTML, Markdown, clear_output, Javascript\n",
    "import ipywidgets as widgets\n",
    "from IPython.display import IFrame, display\n",
    "\n",
    "def on_change(change): # si attiva quando cambio scelta dell'elemento da selezionare\n",
    "    global attach\n",
    "    if change['type'] == 'change' and change['name'] == 'value':\n",
    "        #print (\"Stai scegliendo %s\" % change['new'])\n",
    "        attach = change['new']\n",
    "        return attach\n",
    "\n",
    "def on_button_update(_):\n",
    "    clear_output()\n",
    "    #display(Javascript('''var c = IPython.notebook.get_selected_index();\n",
    "                       #IPython.notebook.execute_cells([c])'''))\n",
    "    allegato()\n",
    "\n",
    "def open_attachment(attach_name):\n",
    "    path_attachments = \"allegati\"\n",
    "    path_file=str(path_attachments + \"/\" + attach_name)\n",
    "    ext = os.path.splitext(path_file)[-1].lower()\n",
    "    #print(path_file)\n",
    "    #print(ext)\n",
    "    #print(ext.replace('.', ''))\n",
    "    if(ext=='.pdf'):\n",
    "        pdf=IFrame(path_file, width=700, height=400)\n",
    "        display(pdf)\n",
    "    else:\n",
    "        #file = open(path_file, \"rb\")\n",
    "        display(Markdown(\"![alt text](\" + path_file + \")\"))\n",
    "        delete = widgets.Button(description='Rimuovi allegato')\n",
    "        delete.on_click(on_button_delete)\n",
    "        display(delete)\n",
    "\n",
    "        #image = file.read()\n",
    "        #w=widgets.Image(\n",
    "        #    value=image,\n",
    "        #    format=ext.replace('.', ''),\n",
    "        #    width=300,\n",
    "        #    height=400,\n",
    "        #)\n",
    "        #display(w)\n",
    "\n",
    "def on_button_confirm(_):\n",
    "    global attach\n",
    "    clear_output()\n",
    "    print('Allegato: ' + str(attach))\n",
    "    open_attachment(attach)\n",
    "\n",
    "def allegato():\n",
    "    path_attachments = \"allegati\"\n",
    "    global attach # allegato attuale scelto\n",
    "    update = widgets.Button(description='Aggiorna') #bottone visualizzato in ogni caso\n",
    "    delete = widgets.Button(description='Rimuovi allegato')\n",
    "    attach_list = os.listdir(path_attachments)\n",
    "    if 'ck_points' in attach_list:\n",
    "        attach_list.remove('ck_points')\n",
    "\n",
    "    if(attach_list): #si attiva se c'è almeno un elemento in lista quindi nella cartella allegati\n",
    "        confirm = widgets.Button(description='Conferma')\n",
    "        chosen_attach_wid = widgets.Dropdown(\n",
    "            options = attach_list,\n",
    "            value = attach_list[0],\n",
    "            description = 'Allegati:',\n",
    "            disabled = False,\n",
    "        )\n",
    "        attach = attach_list[0]\n",
    "        chosen_attach_wid.observe(on_change)\n",
    "        update.on_click(on_button_update)\n",
    "        confirm.on_click(on_button_confirm)\n",
    "        delete.on_click(on_button_delete)\n",
    "        all_buttons = [update, chosen_attach_wid, confirm, delete]\n",
    "        display(widgets.HBox(all_buttons))\n",
    "    else:\n",
    "        print(f\"ATTENZIONE: non sono presenti file nella cartella allegati.\") #Ti ricordiamo che la cartella utile per gli allegati da te prodotti per questo esercizio in modo_libero di svolgimento è la cartella @path_ex_folder@/modo_libero/allegati/\")\n",
    "        update.on_click(on_button_update)\n",
    "        delete.on_click(on_button_delete)\n",
    "        all_buttons = [update, delete]\n",
    "        display(widgets.HBox(all_buttons))\n",
    "\n",
    "def on_button_delete(_):\n",
    "    #delete_above_cell()\n",
    "    delete_this_cell()\n",
    "\n",
    "def delete_above_cell():\n",
    "    display(Javascript('''var c = IPython.notebook.get_selected_index();\n",
    "                                IPython.notebook.get_cell(c-1).metadata.editable = true;\n",
    "                                IPython.notebook.get_cell(c-1).metadata.deletable = true;\n",
    "                                IPython.notebook.delete_cell([c-1]);'''))\n",
    "def delete_this_cell():\n",
    "    display(Javascript('''var c = IPython.notebook.get_selected_index();\n",
    "                                IPython.notebook.get_cell(c).metadata.editable = true;\n",
    "                                IPython.notebook.get_cell(c).metadata.deletable = true;\n",
    "                                IPython.notebook.delete_cell([c]);'''))\n",
    "\n",
    "def on_button_raw_attach(_):\n",
    "    add_attach_cell_din('allegato()')\n",
    "\n",
    "def on_button_md(_):\n",
    "    add_md_cell_din()\n",
    "\n",
    "def on_button_code(_):\n",
    "    add_code_cell_din()\n",
    "\n",
    "def on_button_raw(_):\n",
    "    add_raw_cell_din()\n",
    "\n",
    "def add_raw_cell_din():\n",
    "    display_id = int(time.time()*1e9) # Hack\n",
    "    display(Javascript('''var idx = IPython.notebook.get_selected_index();\n",
    "                       var c = IPython.notebook.insert_cell_at_index(\"raw\", idx);\n",
    "    c.set_text('');\n",
    "    var t_index = IPython.notebook.get_cells().indexOf(c);\n",
    "    IPython.notebook.to_raw(t_index);\n",
    "    IPython.notebook.get_cell(t_index).render();\n",
    "    IPython.notebook.get_cell(t_index).metadata.deletable = true;\n",
    "    IPython.notebook.get_cell(t_index).set_text('');;'''),display_id=display_id) # Hack\n",
    "    # Necessary hack to avoid self-generation of cells at notebook re-opening\n",
    "    # See http://tiny.cc/fnf3nz\n",
    "    display(Javascript(\"\"\" \"\"\"), display_id=display_id, update=True)\n",
    "    return\n",
    "\n",
    "def add_attach_cell_din(code = ''):\n",
    "    display_id = int(time.time()*1e9) # Hack\n",
    "    display(Javascript('''var c = IPython.notebook.insert_cell_above();\n",
    "    c.set_text(' ''' + code + ''' ');\n",
    "    var t_index = IPython.notebook.get_cells().indexOf(c);\n",
    "    IPython.notebook.to_code(t_index);\n",
    "    IPython.notebook.get_cell(t_index).render();\n",
    "    IPython.notebook.execute_cells([t_index]);\n",
    "    IPython.notebook.get_cell(t_index).metadata.editable = false;'''),display_id=display_id) # Hack\n",
    "    # Necessary hack to avoid self-generation of cells at notebook re-opening\n",
    "    # See http://tiny.cc/fnf3nz\n",
    "    display(Javascript(\"\"\" \"\"\"), display_id=display_id, update=True)\n",
    "    return\n",
    "\n",
    "def add_code_cell_din(code = ''):\n",
    "    display_id = int(time.time()*1e9)\n",
    "    display(Javascript('''var c = IPython.notebook.insert_cell_above();\n",
    "    c.set_text(' ''' + code + ''' ');\n",
    "    var t_index = IPython.notebook.get_cells().indexOf(c);\n",
    "    IPython.notebook.to_code(t_index);\n",
    "    IPython.notebook.get_cell(t_index).render();\n",
    "    IPython.notebook.execute_cells([t_index]);\n",
    "    IPython.notebook.get_cell(t_index).metadata.deletable = true;\n",
    "    IPython.notebook.get_cell(t_index).set_text('');'''),display_id=display_id)\n",
    "    # Necessary hack to avoid self-generation of cells at notebook re-opening\n",
    "    # See http://tiny.cc/fnf3nz\n",
    "    display(Javascript(\"\"\" \"\"\"), display_id=display_id, update=True)\n",
    "    return\n",
    "\n",
    "def add_md_cell_din():\n",
    "    display_id = int(time.time()*1e9)\n",
    "    display(Javascript('''var c = IPython.notebook.insert_cell_above();\n",
    "    c.set_text(' ');\n",
    "    var t_index = IPython.notebook.get_cells().indexOf(c);\n",
    "    IPython.notebook.to_markdown(t_index);\n",
    "    IPython.notebook.get_cell(t_index).render();\n",
    "    IPython.notebook.get_cell(t_index).metadata.deletable = true;\n",
    "    IPython.notebook.get_cell(t_index).set_text('');'''),display_id=display_id) # Hack\n",
    "    # Necessary hack to avoid self-generation of cells at notebook re-opening\n",
    "    # See http://tiny.cc/fnf3nz\n",
    "    display(Javascript(\"\"\" \"\"\"), display_id=display_id, update=True)\n",
    "    return\n",
    "\n",
    "def add_cell(code='', position='below', celltype='markdown', is_execute = False):\n",
    "    \"\"\"Create a cell in the IPython Notebook.\n",
    "    code: unicode, Code to fill the new cell with.\n",
    "    celltype: unicode, Type of cells \"code\" or \"markdown\".\n",
    "    position: unicode, Where to put the cell \"below\" or \"at_bottom\"\n",
    "    is_execute: boolean, To decide if the cell is executed after creation\n",
    "    \"\"\"\n",
    "\n",
    "    # Create a unique id based on epoch time\n",
    "    display_id = int(time.time()*1e9)\n",
    "\n",
    "    if is_execute:\n",
    "        display(Javascript(\"\"\"\n",
    "        var basis = IPython.notebook.insert_cell_{0}(\"{1}\");\n",
    "        basis.set_text(atob(\"{2}\"));\n",
    "        basis.execute();\n",
    "        \"\"\".format(position, celltype, \" \")),display_id=display_id)\n",
    "\n",
    "    else:\n",
    "        display(Javascript(\"\"\"\n",
    "        var basis = IPython.notebook.insert_cell_{0}(\"{1}\");\n",
    "        basis.set_text(atob(\"{2}\"));\n",
    "        \"\"\".format(position, celltype, \" \")),display_id=display_id)\n",
    "\n",
    "\n",
    "    # Necessary hack to avoid self-generation of cells at notebook re-opening\n",
    "    # See http://tiny.cc/fnf3nz\n",
    "    display(Javascript(\"\"\" \"\"\"), display_id=display_id, update=True)\n",
    "\n",
    "def code_button_delete():\n",
    "    button_delete = widgets.Button(description=\"Rimuovi l'allegato\", tooltip=\"Seleziona la cella e clicca su Elimina\")\n",
    "    button_delete.on_click(on_button_delete)\n",
    "    #print(\"Vuoi eliminare la cella selezionata?\")\n",
    "    display(button_delete)\n",
    "\n",
    "def loader_main():\n",
    "    button_raw_attach = widgets.Button(description=\"Rispondi (Allegato)\", tooltip=\"Collega un file dalla cartella attachments\")\n",
    "    button_md = widgets.Button(description=\"Rispondi (Markdown)\", abstooltip=\"Aggiungi una cella per scrivere del testo in Markdown\")\n",
    "    button_code = widgets.Button(description=\"Rispondi (Code)\", tooltip=\"Aggiungi una cella per scrivere del codice in Python\")\n",
    "    button_raw = widgets.Button(description=\"Rispondi (Raw)\", tooltip=\"Aggiungi una cella per scrivere del testo libero (SCONSIGLIATA: righe troppo lunghe potrebbero fuoriuscire nella rendition, usala solo se non riesci a controllare il Markdown)\")\n",
    "    button_raw_attach.on_click(on_button_raw_attach)\n",
    "    button_md.on_click(on_button_md)\n",
    "    button_code.on_click(on_button_code)\n",
    "    button_raw.on_click(on_button_raw)\n",
    "\n",
    "    all_buttons = [button_code, button_md, button_raw, button_raw_attach]\n",
    "    display(widgets.HBox(all_buttons))\n"
   ]
  },
  {
   "cell_type": "markdown",
   "metadata": {
    "deletable": false,
    "editable": false,
    "hide_input": true,
    "init_cell": true,
    "tags": [
     "run_start"
    ]
   },
   "source": [
    "# ESERCIZIO: Conteggio di cammini in una griglia rettangolare con celle proibite #\n"
   ]
  },
  {
   "cell_type": "code",
   "execution_count": 13,
   "metadata": {
    "deletable": false,
    "editable": false,
    "hide_input": true,
    "init_cell": true,
    "tags": [
     "run_start",
     "noexport"
    ]
   },
   "outputs": [],
   "source": [
    "import os\n",
    "from IPython.core.display import display, HTML, Markdown, clear_output, Javascript\n",
    "import ipywidgets as widgets\n",
    "from IPython.display import IFrame, display\n",
    "import numpy as np\n",
    "import copy"
   ]
  },
  {
   "cell_type": "code",
   "execution_count": 14,
   "metadata": {
    "deletable": false,
    "editable": false,
    "hide_input": true,
    "init_cell": true,
    "tags": [
     "run_start",
     "noexport"
    ]
   },
   "outputs": [],
   "source": [
    "    from tabulate import tabulate\n",
    "    import copy\n",
    "    n_tasks = 6;\n",
    "    arr_point = [-1] * n_tasks;"
   ]
  },
  {
   "cell_type": "code",
   "execution_count": 15,
   "metadata": {
    "deletable": false,
    "editable": false,
    "hide_input": true,
    "init_cell": true,
    "tags": [
     "noexport"
    ]
   },
   "outputs": [],
   "source": [
    "\n",
    "    campo_minato = [[' ', ' ', ' ', ' ', ' ', ' ', ' ', ' ', '*'], [' ', ' ', ' ', '*', ' ', '*', ' ', ' ', ' '], [' ', ' ', '*', '*', ' ', ' ', ' ', ' ', ' '], [' ', ' ', ' ', ' ', ' ', ' ', ' ', '*', ' '], [' ', ' ', '*', ' ', '*', ' ', ' ', ' ', ' '], [' ', ' ', ' ', ' ', ' ', ' ', '*', ' ', ' '], [' ', '*', ' ', ' ', ' ', ' ', ' ', ' ', ' '], [' ', ' ', ' ', ' ', ' ', ' ', ' ', ' ', ' ']]\n",
    "    m = len(campo_minato)\n",
    "    n = len(campo_minato[0])\n",
    "    mappa = [ [\"*\"]*(n+1) ] + [ ([\"*\"] + r) for r in campo_minato]\n",
    "    "
   ]
  },
  {
   "cell_type": "code",
   "execution_count": 16,
   "metadata": {
    "deletable": false,
    "editable": false,
    "hide_input": true,
    "init_cell": true,
    "tags": [
     "noexport"
    ]
   },
   "outputs": [],
   "source": [
    "    def visualizza(env):\n",
    "        if len(env)==m+1 and len(env[0])==n+1:\n",
    "            index=[chr(65+i) for i in range(m)]\n",
    "            aux=[r[1:] for r in env[1:]]\n",
    "\n",
    "\n",
    "        if len(env)==m+2 and len(env[0])==n+2:\n",
    "            index=[chr(65+i) for i in range(m)]\n",
    "            aux=[r[1:-1] for r in env[1:-1]]\n",
    "\n",
    "        columns=[str(i) for i in range(1,n+1)]\n",
    "        print(tabulate(aux, headers=columns, tablefmt='fancy_grid', showindex=index))\n",
    "\n",
    "\n",
    "    def evaluation_format(answ, pt_green,pt_red, index_pt):\n",
    "        pt_blue=0\n",
    "        if pt_green!=0:\n",
    "            if answ == \"Si\":\n",
    "                pt_green=pt_red\n",
    "                pt_red=0\n",
    "                pt_blue=pt_green\n",
    "            else:\n",
    "                pt_blue=pt_red-pt_green\n",
    "                pt_red=0\n",
    "        arr_point[index_pt]=pt_green\n",
    "        file = open(\"points.txt\", \"w\")\n",
    "        file.write(str(arr_point))\n",
    "        file.close()\n",
    "        return f\"{answ}. Totalizzeresti <span style='color:green'>[{pt_green} safe pt]</span>,                                         <span style='color:blue'>[{pt_blue} possible pt]</span>,                                         <span style='color:red'>[{pt_red} out of reach pt]</span>.<br>\"\n",
    "\n",
    "    def check_num_paths_to(mappa, num_paths_to, pt_green, pt_red, index_pt, return_only_boolean=False):\n",
    "        if len(num_paths_to) != m+1:\n",
    "            if return_only_boolean:\n",
    "                    return False\n",
    "            return evaluation_format(\"No\", 0, pt_red,index_pt)+f\"Le righe della matrice $num\\_paths\\_to$ devono essere $m+1=${m+1}, non {len(num_paths_to)}.\"\n",
    "        if len(num_paths_to[0]) != n+1:\n",
    "            if return_only_boolean:\n",
    "                    return False\n",
    "            return evaluation_format(\"No\", 0, pt_red, index_pt)+f\"Le colonne della matrice $num\\_paths\\_to$ devono essere $n+1=${n+1}, non {len(num_paths_to[0])}.\"\n",
    "\n",
    "        for i in range (0,m):\n",
    "            if num_paths_to[i][0]!=0:\n",
    "                if return_only_boolean:\n",
    "                    return False\n",
    "                return evaluation_format(\"No\", 0, pt_red, index_pt)+f\"Attenzione, i cammini devono partire dalla cella $(1,1)$ e pertanto $num\\_paths\\_to[${i}$][0] = 0$\"\n",
    "        for j in range (0,n):\n",
    "            if num_paths_to[0][j]!=0:\n",
    "                if return_only_boolean:\n",
    "                    return False\n",
    "                return evaluation_format(\"No\", 0, pt_red, index_pt)+f\"Attenzione, i cammini devono partire dalla cella $(1,1)$ e pertanto $num\\_paths\\_to[0][${j}$] = 0$\"\n",
    "        num_paths_to_forgiving = copy.deepcopy(num_paths_to)\n",
    "        num_paths_to_forgiving[1][1] = 1\n",
    "        for i in range(m,0,-1):\n",
    "            for j in range (n,0,-1):\n",
    "                if i==1 and j==1:\n",
    "                    if return_only_boolean:\n",
    "                        return True\n",
    "                    return  evaluation_format(\"Si\", pt_green, pt_red, index_pt)+\"Non riscontro particolari problemi della tua versione della matrice $num\\_paths\\_to$.\"\n",
    "                if mappa[i][j]!=\"*\":\n",
    "                    if num_paths_to_forgiving[i][j]!=num_paths_to_forgiving[i-1][j]+num_paths_to_forgiving[i][j-1]:\n",
    "                        if return_only_boolean:\n",
    "                            return False\n",
    "                        return  evaluation_format(\"No\", 0, pt_red, index_pt)+\"Ti avviso: riscontro dei problemi nella tua versione della matrice $num\\_paths\\_to$.\"\n",
    "                elif num_paths_to_forgiving[i][j]!=0:\n",
    "                    if return_only_boolean:\n",
    "                        return False\n",
    "                    return  evaluation_format(\"No\", 0, pt_red, index_pt)+\"Ti avviso: riscontro dei problemi nella tua versione della matrice $num\\_paths\\_to$.\"\n",
    "\n",
    "\n",
    "    def check_num_paths_from(mappa, num_paths_from, pt_green, pt_red, index_pt, return_only_boolean=False):\n",
    "        if len(num_paths_from) != m+2:\n",
    "            if return_only_boolean:\n",
    "                return False\n",
    "            return evaluation_format(\"No\", 0, pt_red, index_pt)+f\"Le righe della matrice $num\\_paths\\_from$ devono essere $m+2=${m+2}, non {len(num_paths_from)}.\"\n",
    "        if len(num_paths_from[0]) != n+2:\n",
    "            if return_only_boolean:\n",
    "                    return False\n",
    "            return evaluation_format(\"No\", 0, pt_red, index_pt)+f\"Le colonne della matrice $num\\_paths\\_from$ devono essere $n+2=${n+2}, non {len(num_paths_from[0])}.\"\n",
    "\n",
    "        for i in range (0,m+1):\n",
    "            if num_paths_from[i][n+1]!=0:\n",
    "                if return_only_boolean:\n",
    "                    return False\n",
    "                return evaluation_format(\"No\", 0, pt_red, index_pt)+f\"Attenzione, i cammini devono partire dalla cella $(8,9)$ e pertanto $num\\_paths\\_from[${i}$][10] = 0$\"\n",
    "        for j in range (0,n+1):\n",
    "            if num_paths_from[m+1][j]!=0:\n",
    "                if return_only_boolean:\n",
    "                    return False\n",
    "                return evaluation_format(\"No\", 0, pt_red, index_pt)+f\"Attenzione, i cammini devono partire dalla cella $(8,9)$ e pertanto $num\\_paths\\_from[9][${j}$] = 0$\"\n",
    "        num_paths_from_forgiving = copy.deepcopy(num_paths_from)\n",
    "        num_paths_from_forgiving[m][n] = 1\n",
    "        for i in range(1,m-1):\n",
    "            for j in range (1,n-1):\n",
    "                if mappa[i][j]!=\"*\":\n",
    "                    if num_paths_from_forgiving[i][j]!=num_paths_from_forgiving[i+1][j]+num_paths_from_forgiving[i][j+1]:\n",
    "                        if return_only_boolean:\n",
    "                            return False\n",
    "                        return  evaluation_format(\"No\", 0, pt_red, index_pt)+\"Ti avviso: riscontro dei problemi nella tua versione della matrice $num\\_paths\\_from$.\"\n",
    "                elif num_paths_from_forgiving[i][j]!=0:\n",
    "                    if return_only_boolean:\n",
    "                        return False\n",
    "                    return  evaluation_format(\"No\", 0, pt_red, index_pt)+\"Ti avviso: riscontro dei problemi nella tua versione della matrice $num\\_paths\\_from$.\"\n",
    "        for i in range (1, m):\n",
    "            if mappa[i][n]!=\"*\":\n",
    "                if num_paths_from_forgiving[i][n]!=num_paths_from_forgiving[i+1][n]+num_paths_from_forgiving[i][n+1]:\n",
    "                    if return_only_boolean:\n",
    "                        return False\n",
    "                    return  evaluation_format(\"No\", 0, pt_red, index_pt)+\"Ti avviso: riscontro dei problemi nella tua versione della matrice $num\\_paths\\_from$.\"\n",
    "            elif num_paths_from_forgiving[i][n]!=0:\n",
    "                if return_only_boolean:\n",
    "                    return False\n",
    "                return  evaluation_format(\"No\", 0, pt_red, index_pt)+\"Ti avviso: riscontro dei problemi nella tua versione della matrice $num\\_paths\\_from$.\"\n",
    "        for j in range (1, n):\n",
    "            if mappa[m][j]!=\"*\":\n",
    "                if num_paths_from_forgiving[m][j]!=num_paths_from_forgiving[m+1][j]+num_paths_from_forgiving[m][j+1]:\n",
    "                    if return_only_boolean:\n",
    "                        return False\n",
    "                    return  evaluation_format(\"No\", 0, pt_red, index_pt)+\"Ti avviso: riscontro dei problemi nella tua versione della matrice $num\\_paths\\_from$.\"\n",
    "            elif num_paths_from_forgiving[m][j]!=0:\n",
    "                if return_only_boolean:\n",
    "                    return False\n",
    "                return  evaluation_format(\"No\", 0, pt_red, index_pt)+\"Ti avviso: riscontro dei problemi nella tua versione della matrice $num\\_paths\\_from$.\"\n",
    "        if return_only_boolean:\n",
    "            return True\n",
    "        return  evaluation_format(\"Si\", pt_green, pt_red, index_pt)+\"Non riscontro particolari problemi della tua versione della matrice $num\\_paths\\_from$.\"\n",
    "\n",
    "    def Latex_type(string):\n",
    "        return string.replace(\"_\", \"\\_\")\n",
    "\n",
    "    def visualizza_e_valuta(nome_matrice, matrice, pt_green, pt_red, index_pt):\n",
    "        display(Markdown(f\"La tua versione attuale della matrice ${Latex_type(nome_matrice)}$ è la seguente:\"))\n",
    "        visualizza(matrice)\n",
    "        display(Markdown(f\"<b>Validazione della tua matrice ${Latex_type(nome_matrice)}$:</b>\"))\n",
    "        display(Markdown(eval(f\"check_{nome_matrice}(mappa,matrice,pt_green, pt_red, index_pt)\")))\n",
    "    "
   ]
  },
  {
   "cell_type": "markdown",
   "metadata": {
    "deletable": false,
    "editable": false,
    "hide_input": true,
    "init_cell": true,
    "tags": [
     "noexport"
    ]
   },
   "source": [
    "<b>Nota</b>: Saper programmare non è la competenza che intendiamo valutare con questo esercizio.\n",
    "    Decidi tu, in piena libertà, se preferisci compilare le tabelle e le risposte a mano, oppure scrivere del codice che lo faccia per te\n",
    "    o che ti assista nelle misura che ti è più utile. Sei incoraggiato a ricercare l'approccio per te più pratico, sicuro e conveniente.\n",
    "    Non verranno pertanto attribuiti punti extra per chi scrive del codice. I punti ottenuti dalle risposte consegnate a chiusura sono l'unico elemento oggetto di valutazione.\n",
    "    In ogni caso, il feedback offerto dalle procedure di validazione rese disponibili è di grande aiuto.\n",
    "    Esso convalida la conformità delle tue risposte facendo anche presente a quanti dei punti previsti  le tue risposte possono ambire.\n",
    "    Per facilitare chi di voi volesse scrivere del codice a proprio supporto, abbiamo aggiunto alla mappa di $m$ righe ed $n$ colonne una riga e colonna iniziale (di indice zero), fatte interamente di mine, perchè non si crei confusione col fatto che gli indici di liste e array in programmazione partono da zero.\n",
    "    "
   ]
  },
  {
   "cell_type": "markdown",
   "metadata": {
    "deletable": false,
    "editable": false,
    "hide_input": true,
    "init_cell": true,
    "tags": []
   },
   "source": [
    "Un robot, inizialmente situato nella cella $A1=(1, 1)$, deve portarsi nella cella $H9=(8,9)$.Le celle che riportano il simbolo '*' contengono una mina od altre trapole mortali, ed il robot deve evitarle.I movimenti base possibili sono il passo verso destra (ad esempio il primo passo potrebbe avvenire dalla cella $A1$ alla cella $A2$) ed il passo verso il basso (ad esempio, come unica altra alternativa per il primo passo il robot potrebbe portarsi quindi nella cella $B1$).Quanti sono i possibili percorsi che può fare il robot per andare dalla cella $A1=(1, 1)$ alla cella $H9=(8,9)$?"
   ]
  },
  {
   "cell_type": "code",
   "execution_count": 17,
   "metadata": {
    "deletable": false,
    "editable": false,
    "hide_input": true,
    "init_cell": true,
    "tags": [
     "noexport"
    ]
   },
   "outputs": [
    {
     "name": "stdout",
     "output_type": "stream",
     "text": [
      "╒════╤═════╤═════╤═════╤═════╤═════╤═════╤═════╤═════╤═════╕\n",
      "│    │ 1   │ 2   │ 3   │ 4   │ 5   │ 6   │ 7   │ 8   │ 9   │\n",
      "╞════╪═════╪═════╪═════╪═════╪═════╪═════╪═════╪═════╪═════╡\n",
      "│ A  │     │     │     │     │     │     │     │     │ *   │\n",
      "├────┼─────┼─────┼─────┼─────┼─────┼─────┼─────┼─────┼─────┤\n",
      "│ B  │     │     │     │ *   │     │ *   │     │     │     │\n",
      "├────┼─────┼─────┼─────┼─────┼─────┼─────┼─────┼─────┼─────┤\n",
      "│ C  │     │     │ *   │ *   │     │     │     │     │     │\n",
      "├────┼─────┼─────┼─────┼─────┼─────┼─────┼─────┼─────┼─────┤\n",
      "│ D  │     │     │     │     │     │     │     │ *   │     │\n",
      "├────┼─────┼─────┼─────┼─────┼─────┼─────┼─────┼─────┼─────┤\n",
      "│ E  │     │     │ *   │     │ *   │     │     │     │     │\n",
      "├────┼─────┼─────┼─────┼─────┼─────┼─────┼─────┼─────┼─────┤\n",
      "│ F  │     │     │     │     │     │     │ *   │     │     │\n",
      "├────┼─────┼─────┼─────┼─────┼─────┼─────┼─────┼─────┼─────┤\n",
      "│ G  │     │ *   │     │     │     │     │     │     │     │\n",
      "├────┼─────┼─────┼─────┼─────┼─────┼─────┼─────┼─────┼─────┤\n",
      "│ H  │     │     │     │     │     │     │     │     │     │\n",
      "╘════╧═════╧═════╧═════╧═════╧═════╧═════╧═════╧═════╧═════╛\n"
     ]
    }
   ],
   "source": [
    "\n",
    "    from tabulate import tabulate\n",
    "    print(tabulate([[' ', ' ', ' ', ' ', ' ', ' ', ' ', ' ', '*'], [' ', ' ', ' ', '*', ' ', '*', ' ', ' ', ' '], [' ', ' ', '*', '*', ' ', ' ', ' ', ' ', ' '], [' ', ' ', ' ', ' ', ' ', ' ', ' ', '*', ' '], [' ', ' ', '*', ' ', '*', ' ', ' ', ' ', ' '], [' ', ' ', ' ', ' ', ' ', ' ', '*', ' ', ' '], [' ', '*', ' ', ' ', ' ', ' ', ' ', ' ', ' '], [' ', ' ', ' ', ' ', ' ', ' ', ' ', ' ', ' ']], headers=['1', '2', '3', '4', '5', '6', '7', '8', '9'], tablefmt=\"fancy_grid\", showindex=['A', 'B', 'C', 'D', 'E', 'F', 'G', 'H']))"
   ]
  },
  {
   "cell_type": "markdown",
   "metadata": {
    "deletable": false,
    "editable": false,
    "hide_input": true,
    "init_cell": true,
    "tags": [
     "noexport"
    ]
   },
   "source": [
    "__Richiesta 1 [5 punti]__: A mano o tramite un programma componi la matrice $num\\_paths\\_to$ di dimensione $(m+1)\\times(n+1)$ e tale per cui in $num\\_paths\\_to[i][j]$ sia riposto il numero di cammini dalla cella $A1=(1,1)$ alla generica cella $(i,j)$, per ogni $i = 0,..., m+1$ e $j = 0,..., n+1$."
   ]
  },
  {
   "cell_type": "code",
   "execution_count": 7,
   "metadata": {
    "deletable": false,
    "init_cell": true
   },
   "outputs": [],
   "source": [
    "num_paths_to=[\n",
    "\t\t[0, 0, 0, 0, 0, 0, 0, 0, 0, 0],\n",
    "\t\t[0, 0, 0, 0, 0, 0, 0, 0, 0, 0],\t\t# [' ', ' ', ' ', ' ', ' ', ' ', ' ', ' ', '*']\n",
    "\t\t[0, 0, 0, 0, 0, 0, 0, 0, 0, 0],\t\t# [' ', ' ', ' ', '*', ' ', '*', ' ', ' ', ' ']\n",
    "\t\t[0, 0, 0, 0, 0, 0, 0, 0, 0, 0],\t\t# [' ', ' ', '*', '*', ' ', ' ', ' ', ' ', ' ']\n",
    "\t\t[0, 0, 0, 0, 0, 0, 0, 0, 0, 0],\t\t# [' ', ' ', ' ', ' ', ' ', ' ', ' ', '*', ' ']\n",
    "\t\t[0, 0, 0, 0, 0, 0, 0, 0, 0, 0],\t\t# [' ', ' ', '*', ' ', '*', ' ', ' ', ' ', ' ']\n",
    "\t\t[0, 0, 0, 0, 0, 0, 0, 0, 0, 0],\t\t# [' ', ' ', ' ', ' ', ' ', ' ', '*', ' ', ' ']\n",
    "\t\t[0, 0, 0, 0, 0, 0, 0, 0, 0, 0],\t\t# [' ', '*', ' ', ' ', ' ', ' ', ' ', ' ', ' ']\n",
    "\t\t[0, 0, 0, 0, 0, 0, 0, 0, 0, 0],\t\t# [' ', ' ', ' ', ' ', ' ', ' ', ' ', ' ', ' ']\n",
    "]"
   ]
  },
  {
   "cell_type": "code",
   "execution_count": 8,
   "metadata": {
    "deletable": false,
    "editable": false,
    "hide_input": true,
    "init_cell": true
   },
   "outputs": [
    {
     "data": {
      "text/markdown": [
       "La tua versione attuale della matrice $num\\_paths\\_to$ è la seguente:"
      ],
      "text/plain": [
       "<IPython.core.display.Markdown object>"
      ]
     },
     "metadata": {},
     "output_type": "display_data"
    },
    {
     "name": "stdout",
     "output_type": "stream",
     "text": [
      "╒════╤═════╤═════╤═════╤═════╤═════╤═════╤═════╤═════╤═════╕\n",
      "│    │   1 │   2 │   3 │   4 │   5 │   6 │   7 │   8 │   9 │\n",
      "╞════╪═════╪═════╪═════╪═════╪═════╪═════╪═════╪═════╪═════╡\n",
      "│ A  │   0 │   0 │   0 │   0 │   0 │   0 │   0 │   0 │   0 │\n",
      "├────┼─────┼─────┼─────┼─────┼─────┼─────┼─────┼─────┼─────┤\n",
      "│ B  │   0 │   0 │   0 │   0 │   0 │   0 │   0 │   0 │   0 │\n",
      "├────┼─────┼─────┼─────┼─────┼─────┼─────┼─────┼─────┼─────┤\n",
      "│ C  │   0 │   0 │   0 │   0 │   0 │   0 │   0 │   0 │   0 │\n",
      "├────┼─────┼─────┼─────┼─────┼─────┼─────┼─────┼─────┼─────┤\n",
      "│ D  │   0 │   0 │   0 │   0 │   0 │   0 │   0 │   0 │   0 │\n",
      "├────┼─────┼─────┼─────┼─────┼─────┼─────┼─────┼─────┼─────┤\n",
      "│ E  │   0 │   0 │   0 │   0 │   0 │   0 │   0 │   0 │   0 │\n",
      "├────┼─────┼─────┼─────┼─────┼─────┼─────┼─────┼─────┼─────┤\n",
      "│ F  │   0 │   0 │   0 │   0 │   0 │   0 │   0 │   0 │   0 │\n",
      "├────┼─────┼─────┼─────┼─────┼─────┼─────┼─────┼─────┼─────┤\n",
      "│ G  │   0 │   0 │   0 │   0 │   0 │   0 │   0 │   0 │   0 │\n",
      "├────┼─────┼─────┼─────┼─────┼─────┼─────┼─────┼─────┼─────┤\n",
      "│ H  │   0 │   0 │   0 │   0 │   0 │   0 │   0 │   0 │   0 │\n",
      "╘════╧═════╧═════╧═════╧═════╧═════╧═════╧═════╧═════╧═════╛\n"
     ]
    },
    {
     "data": {
      "text/markdown": [
       "<b>Validazione della tua matrice $num\\_paths\\_to$:</b>"
      ],
      "text/plain": [
       "<IPython.core.display.Markdown object>"
      ]
     },
     "metadata": {},
     "output_type": "display_data"
    },
    {
     "data": {
      "text/markdown": [
       "No. Totalizzeresti <span style='color:green'>[0 safe pt]</span>,                                         <span style='color:blue'>[0 possible pt]</span>,                                         <span style='color:red'>[5 out of reach pt]</span>.<br>Ti avviso: riscontro dei problemi nella tua versione della matrice $num\\_paths\\_to$."
      ],
      "text/plain": [
       "<IPython.core.display.Markdown object>"
      ]
     },
     "metadata": {},
     "output_type": "display_data"
    }
   ],
   "source": [
    "visualizza_e_valuta('num_paths_to',num_paths_to, pt_green=5, pt_red=5,index_pt=0)"
   ]
  },
  {
   "cell_type": "markdown",
   "metadata": {
    "deletable": false,
    "editable": false,
    "hide_input": true,
    "init_cell": true,
    "tags": [
     "noexport"
    ]
   },
   "source": [
    "__Richiesta 2 [5 punti]__: Componi ora una matrice $num\\_paths\\_from$ di dimensione $(m+2)\\times(n+2)$ e tale per cui in $num\\_paths\\_from[i][j]$, per ogni $i = 1,..., m+1$ e $j = 1,..., n+1$, sia riposto il numero di cammini dalla generica cella $(i,j)$ alla cella $H9=(8,9)$."
   ]
  },
  {
   "cell_type": "code",
   "execution_count": 9,
   "metadata": {
    "deletable": false,
    "init_cell": true
   },
   "outputs": [],
   "source": [
    "num_paths_from=[\n",
    "\t\t[0, 0, 0, 0, 0, 0, 0, 0, 0, 0, 0],\n",
    "\t\t[0, 0, 0, 0, 0, 0, 0, 0, 0, 0, 0],\t\t# [' ', ' ', ' ', ' ', ' ', ' ', ' ', ' ', '*']\n",
    "\t\t[0, 0, 0, 0, 0, 0, 0, 0, 0, 0, 0],\t\t# [' ', ' ', ' ', '*', ' ', '*', ' ', ' ', ' ']\n",
    "\t\t[0, 0, 0, 0, 0, 0, 0, 0, 0, 0, 0],\t\t# [' ', ' ', '*', '*', ' ', ' ', ' ', ' ', ' ']\n",
    "\t\t[0, 0, 0, 0, 0, 0, 0, 0, 0, 0, 0],\t\t# [' ', ' ', ' ', ' ', ' ', ' ', ' ', '*', ' ']\n",
    "\t\t[0, 0, 0, 0, 0, 0, 0, 0, 0, 0, 0],\t\t# [' ', ' ', '*', ' ', '*', ' ', ' ', ' ', ' ']\n",
    "\t\t[0, 0, 0, 0, 0, 0, 0, 0, 0, 0, 0],\t\t# [' ', ' ', ' ', ' ', ' ', ' ', '*', ' ', ' ']\n",
    "\t\t[0, 0, 0, 0, 0, 0, 0, 0, 0, 0, 0],\t\t# [' ', '*', ' ', ' ', ' ', ' ', ' ', ' ', ' ']\n",
    "\t\t[0, 0, 0, 0, 0, 0, 0, 0, 0, 0, 0],\t\t# [' ', ' ', ' ', ' ', ' ', ' ', ' ', ' ', ' ']\n",
    "\t\t[0, 0, 0, 0, 0, 0, 0, 0, 0, 0, 0],\n",
    "]"
   ]
  },
  {
   "cell_type": "code",
   "execution_count": 10,
   "metadata": {
    "deletable": false,
    "editable": false,
    "hide_input": true,
    "init_cell": true
   },
   "outputs": [
    {
     "data": {
      "text/markdown": [
       "La tua versione attuale della matrice $num\\_paths\\_from$ è la seguente:"
      ],
      "text/plain": [
       "<IPython.core.display.Markdown object>"
      ]
     },
     "metadata": {},
     "output_type": "display_data"
    },
    {
     "name": "stdout",
     "output_type": "stream",
     "text": [
      "╒════╤═════╤═════╤═════╤═════╤═════╤═════╤═════╤═════╤═════╕\n",
      "│    │   1 │   2 │   3 │   4 │   5 │   6 │   7 │   8 │   9 │\n",
      "╞════╪═════╪═════╪═════╪═════╪═════╪═════╪═════╪═════╪═════╡\n",
      "│ A  │   0 │   0 │   0 │   0 │   0 │   0 │   0 │   0 │   0 │\n",
      "├────┼─────┼─────┼─────┼─────┼─────┼─────┼─────┼─────┼─────┤\n",
      "│ B  │   0 │   0 │   0 │   0 │   0 │   0 │   0 │   0 │   0 │\n",
      "├────┼─────┼─────┼─────┼─────┼─────┼─────┼─────┼─────┼─────┤\n",
      "│ C  │   0 │   0 │   0 │   0 │   0 │   0 │   0 │   0 │   0 │\n",
      "├────┼─────┼─────┼─────┼─────┼─────┼─────┼─────┼─────┼─────┤\n",
      "│ D  │   0 │   0 │   0 │   0 │   0 │   0 │   0 │   0 │   0 │\n",
      "├────┼─────┼─────┼─────┼─────┼─────┼─────┼─────┼─────┼─────┤\n",
      "│ E  │   0 │   0 │   0 │   0 │   0 │   0 │   0 │   0 │   0 │\n",
      "├────┼─────┼─────┼─────┼─────┼─────┼─────┼─────┼─────┼─────┤\n",
      "│ F  │   0 │   0 │   0 │   0 │   0 │   0 │   0 │   0 │   0 │\n",
      "├────┼─────┼─────┼─────┼─────┼─────┼─────┼─────┼─────┼─────┤\n",
      "│ G  │   0 │   0 │   0 │   0 │   0 │   0 │   0 │   0 │   0 │\n",
      "├────┼─────┼─────┼─────┼─────┼─────┼─────┼─────┼─────┼─────┤\n",
      "│ H  │   0 │   0 │   0 │   0 │   0 │   0 │   0 │   0 │   0 │\n",
      "╘════╧═════╧═════╧═════╧═════╧═════╧═════╧═════╧═════╧═════╛\n"
     ]
    },
    {
     "data": {
      "text/markdown": [
       "<b>Validazione della tua matrice $num\\_paths\\_from$:</b>"
      ],
      "text/plain": [
       "<IPython.core.display.Markdown object>"
      ]
     },
     "metadata": {},
     "output_type": "display_data"
    },
    {
     "data": {
      "text/markdown": [
       "No. Totalizzeresti <span style='color:green'>[0 safe pt]</span>,                                         <span style='color:blue'>[0 possible pt]</span>,                                         <span style='color:red'>[5 out of reach pt]</span>.<br>Ti avviso: riscontro dei problemi nella tua versione della matrice $num\\_paths\\_from$."
      ],
      "text/plain": [
       "<IPython.core.display.Markdown object>"
      ]
     },
     "metadata": {},
     "output_type": "display_data"
    }
   ],
   "source": [
    "visualizza_e_valuta('num_paths_from',num_paths_from, pt_green=5, pt_red=5,index_pt=1)"
   ]
  },
  {
   "cell_type": "markdown",
   "metadata": {
    "deletable": false,
    "editable": false,
    "hide_input": true,
    "init_cell": true,
    "tags": [
     "noexport"
    ]
   },
   "source": [
    "__Richiesta 3 [5 punti]__: Quanti sono i percorsi con partenza in $A1=(1,1)$ e arrivo in $H9=(8,9)$."
   ]
  },
  {
   "cell_type": "markdown",
   "metadata": {
    "deletable": false,
    "init_cell": true
   },
   "source": [
    "Inserisci la risposta"
   ]
  },
  {
   "cell_type": "markdown",
   "metadata": {
    "deletable": false,
    "editable": false,
    "hide_input": true,
    "init_cell": true,
    "tags": [
     "noexport"
    ]
   },
   "source": [
    "__Richiesta 4 [10 punti]__: Quanti sono i percorsi con partenza in $B5=(2, 5)$ e arrivo in $H9=(8,9)$."
   ]
  },
  {
   "cell_type": "markdown",
   "metadata": {
    "deletable": false,
    "init_cell": true
   },
   "source": [
    "Inserisci la risposta"
   ]
  },
  {
   "cell_type": "markdown",
   "metadata": {
    "deletable": false,
    "editable": false,
    "hide_input": true,
    "init_cell": true,
    "tags": [
     "noexport"
    ]
   },
   "source": [
    "__Richiesta 5 [10 punti]__: Quanti sono i percorsi con partenza in $A1=(1,1)$ e arrivo in $F6=(6, 6)$?"
   ]
  },
  {
   "cell_type": "markdown",
   "metadata": {
    "deletable": false,
    "init_cell": true
   },
   "source": [
    "Inserisci la risposta"
   ]
  },
  {
   "cell_type": "markdown",
   "metadata": {
    "deletable": false,
    "editable": false,
    "hide_input": true,
    "init_cell": true,
    "tags": [
     "noexport"
    ]
   },
   "source": [
    "__Richiesta 6 [10 punti]__: Quanti sono i percorsi che partono da $A1=(1,1)$, passano da $D5=(4, 5)$, e arrivano in $H9=(8,9)$?"
   ]
  },
  {
   "cell_type": "markdown",
   "metadata": {
    "deletable": false,
    "init_cell": true
   },
   "source": [
    "Inserisci la risposta"
   ]
  },
  {
   "cell_type": "code",
   "execution_count": 11,
   "metadata": {
    "deletable": false,
    "editable": false,
    "hide_input": true,
    "init_cell": true,
    "tags": [
     "run_start",
     "noexport"
    ]
   },
   "outputs": [
    {
     "data": {
      "application/vnd.jupyter.widget-view+json": {
       "model_id": "0bd013d578c54c509bb9346aa0deac7b",
       "version_major": 2,
       "version_minor": 0
      },
      "text/plain": [
       "VBox(children=(HBox(children=(Button(description='Salva & Esporta', style=ButtonStyle(), tooltip='Esporta il f…"
      ]
     },
     "metadata": {},
     "output_type": "display_data"
    }
   ],
   "source": [
    "import os\n",
    "import time\n",
    "from urllib.request import urlopen\n",
    "import nbformat\n",
    "from traitlets.config import Config\n",
    "from nbconvert import HTMLExporter\n",
    "from nbconvert import RSTExporter, NotebookExporter\n",
    "from IPython.display import Image, HTML, Javascript\n",
    "from datetime import datetime\n",
    "\n",
    "import shutil\n",
    "last ='preview_last/' #path of last submission\n",
    "old = 'preview_old/' #path of prevous submissions\n",
    "\n",
    "#hide alert buttons\n",
    "def hide_w(w):\n",
    "    for e in w:\n",
    "        e.layout.visibility = 'hidden'\n",
    "\n",
    "#show alert buttons\n",
    "def show_w(w):\n",
    "    for e in w:\n",
    "        e.layout.visibility = 'visible'\n",
    "\n",
    "def are_you_sure():\n",
    "    show_w(alert_buttons)\n",
    "\n",
    "label = widgets.Label(value=\"Un tuo elaborato era già stato precedentemente prodotto. Vuoi rimpiazzarlo con il presente?\")\n",
    "yes = widgets.Button(description=\"Si\", tooltip=\"Produce il nuovo elaborato. Esso diviene la versione attuale prendendo il posto del precedente\")\n",
    "no = widgets.Button(description=\"No\")\n",
    "\n",
    "alert_buttons = [label,yes,no]\n",
    "hide_w(alert_buttons)\n",
    "\n",
    "#move all files from last to old and save the new preview\n",
    "def yes_clicked(b):\n",
    "    files = os.listdir(last)\n",
    "    for f in files:\n",
    "        if f == '.ipynb_checkpoints':\n",
    "            continue\n",
    "        if not os.path.isdir('./preview_old'):\n",
    "            os.mkdir(old)\n",
    "        shutil.move(last+f, old)\n",
    "    display(Javascript('IPython.notebook.save_checkpoint();'))\n",
    "    now = datetime.now() # current date and time\n",
    "    date_time = now.strftime(\"%Y-%m-%d-%H-%M-%S\")\n",
    "    hname = 'Esercizio_04.ipynb'[:-6] + '_' + date_time\n",
    "    ! jupyter nbconvert Esercizio_04.ipynb --to html_embed --output=$hname --output-dir=./preview_last/ --TagRemovePreprocessor.enabled=True --TagRemovePreprocessor.remove_cell_tags=\"['noexport']\"\n",
    "    display(Javascript('window.open(\"./preview_last/' + hname + '.html\")'))\n",
    "    hide_w(alert_buttons)\n",
    "def no_clicked(b):\n",
    "    hide_w(alert_buttons)\n",
    "\n",
    "\n",
    "def generate_preview_HTML(_):\n",
    "    if not os.path.isdir('./preview_last'):\n",
    "        os.mkdir(last)\n",
    "    directory= os.listdir(last)\n",
    "    if len(directory) <1:\n",
    "        display(Javascript('IPython.notebook.save_checkpoint();'))\n",
    "        now = datetime.now() # current date and time\n",
    "        date_time = now.strftime(\"%Y-%m-%d-%H-%M-%S\")\n",
    "        hname = 'Esercizio_04.ipynb'[:-6] + '_' + date_time\n",
    "        ! jupyter nbconvert Esercizio_04.ipynb --TagRemovePreprocessor.enabled=True --TagRemovePreprocessor.remove_cell_tags=\"['noexport']\" --to html_embed --output=$hname --output-dir=./preview_last/\n",
    "        display(Javascript('window.open(\"./preview_last/' + hname + '.html\")'))\n",
    "    else:\n",
    "        are_you_sure()\n",
    "\n",
    "\n",
    "button = widgets.Button(description=\"Salva & Esporta\", tooltip=\"Esporta il foglio Jupyter in HTML nella cartella preview\")\n",
    "output = widgets.Output()\n",
    "button.on_click(generate_preview_HTML)\n",
    "yes.on_click(yes_clicked)\n",
    "no.on_click(no_clicked)\n",
    "h_box1 = widgets.HBox([button])\n",
    "h_box2 = widgets.HBox([label,yes,no])\n",
    "display(widgets.VBox([h_box1,h_box2]))\n"
   ]
  }
 ],
 "metadata": {
  "kernelspec": {
   "display_name": "Python 3",
   "language": "python",
   "name": "python3"
  },
  "language_info": {
   "codemirror_mode": {
    "name": "ipython",
    "version": 3
   },
   "file_extension": ".py",
   "mimetype": "text/x-python",
   "name": "python",
   "nbconvert_exporter": "python",
   "pygments_lexer": "ipython3",
   "version": "3.7.6"
  }
 },
 "nbformat": 4,
 "nbformat_minor": 4
}
