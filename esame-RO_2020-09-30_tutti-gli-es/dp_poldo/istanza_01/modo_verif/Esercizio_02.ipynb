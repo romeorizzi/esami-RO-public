{
 "cells": [
  {
   "cell_type": "markdown",
   "metadata": {
    "deletable": false,
    "editable": false,
    "hide_input": true,
    "init_cell": true,
    "tags": []
   },
   "source": [
    "# ESERCIZIO: Sottosequenze crescenti e decrescenti #\n"
   ]
  },
  {
   "cell_type": "code",
   "execution_count": null,
   "metadata": {
    "deletable": false,
    "editable": false,
    "hide_input": true,
    "init_cell": true,
    "tags": [
     "noexport"
    ]
   },
   "outputs": [],
   "source": [
    "import os\n",
    "from IPython.core.display import display, HTML, Markdown, clear_output, Javascript\n",
    "import ipywidgets as widgets\n",
    "from IPython.display import IFrame, display\n",
    "import numpy as np\n"
   ]
  },
  {
   "cell_type": "code",
   "execution_count": null,
   "metadata": {
    "hide_input": true,
    "init_cell": true,
    "tags": [
     "noexport"
    ]
   },
   "outputs": [],
   "source": [
    "    n_tasks = 5;\n",
    "    arr_point= [-1] * n_tasks;"
   ]
  },
  {
   "cell_type": "code",
   "execution_count": null,
   "metadata": {
    "deletable": false,
    "editable": false,
    "hide_input": true,
    "init_cell": true,
    "tags": [
     "noexport"
    ]
   },
   "outputs": [],
   "source": [
    "s=[11, 21, 18, 12, 14, 31, 38, 58, 15, 37, 59, 19, 42, 29, 22, 56, 40, 17, 41, 13, 33, 35, 25, 16, 39, 49, 60, 54, 23]"
   ]
  },
  {
   "cell_type": "code",
   "execution_count": null,
   "metadata": {
    "deletable": false,
    "editable": false,
    "hide_input": true,
    "init_cell": true,
    "tags": [
     "noexport"
    ]
   },
   "outputs": [],
   "source": [
    "    def is_subseq(s, subs):\n",
    "        found = 0\n",
    "        pos_r = 0\n",
    "        while pos_r < len(s):\n",
    "            if s[pos_r] == subs[found]:\n",
    "                found += 1\n",
    "                if found >= len(subs):\n",
    "                    return True\n",
    "            pos_r += 1\n",
    "        return False\n",
    "\n",
    "    def evaluation_format(answ, pt_green,pt_red, index_pt):\n",
    "        pt_blue=0\n",
    "        if pt_green!=0:\n",
    "            if answ == \"Si\":\n",
    "                pt_blue=pt_red-pt_green\n",
    "                pt_red=0\n",
    "        arr_point[index_pt]=pt_green\n",
    "        file = open(\"points.txt\", \"w\")\n",
    "        file.write(str(arr_point))\n",
    "        file.close()\n",
    "        return f\"{answ}. Totalizzeresti <span style='color:green'>[{pt_green} safe pt]</span>,                                         <span style='color:blue'>[{pt_blue} possible pt]</span>,                                         <span style='color:red'>[{pt_red} out of reach pt]</span>.<br>\"\n",
    "\n",
    "\n",
    "    # Legend of the possible sequence types:\n",
    "    dictionary_of_types = {\n",
    "          \"SC\": (\"implemented\", \"<b>strettamente crescente</b>\"),\n",
    "          \"ND\": (\"implemented\", \"<b>non-decrescente</b>\"),\n",
    "          \"SD\": (\"implemented\", \"<b>strettamente decrescente</b>\"),\n",
    "          \"NC\": (\"implemented\", \"<b>non-crescente</it>\"),\n",
    "           \"V\": (\"implemented\", \"<b>a V</b> <it>(prima giù e poi sù)</it>\"),\n",
    "           \"A\": (\"implemented\", \"<b>ad A</b> (prima sù e poi giù)</it>\"),\n",
    "          \"SV\": (\"implemented\", \"<b>a V stretto</b> <it>(prima strettamente giù e poi strettamente sù)</it>\"),\n",
    "          \"SA\": (\"implemented\", \"<b>ad A stetto</b> <it>(prima strettamente sù e poi strettamente giù)</it>\"),\n",
    "           \"N\": (\"implemented\", \"<b>a N</b> (non-decrescente con al più un ripensamento)</it>\"),\n",
    "           \"Z\": (\"implemented\", \"<b>a Z</b> <it>(non-crescente con al più un ripensamento)</it>\"),\n",
    "          \"SN\": (\"implemented\", \"<b>a N stetto</b> <it>(strettamente crescente con al più un ripensamento)</it>\"),\n",
    "          \"SZ\": (\"implemented\", \"<b>a Z stretto</b> <it>(strettamente decrescente con al più un ripensamento)</it>\"),\n",
    "      \"ZigZag\": (\"implemented\", \"<b>a Zig-Zag</b> <it>(primo passo a crescere e poi alterna ad ogni passo)</it>\"),\n",
    "      \"ZagZig\": (\"implemented\", \"<b>a Zag-Zig</b> <it>(primo passo a calare e poi alterna ad ogni passo)</it>\"),\n",
    "    \"ZigZagEQ\": (\"implemented\", \"<b>a Zig-Zag debole</b> <it>(primo passo a crescere e poi alterna ad ogni passo, con valori consecutivi che possono essere uguali)</it>\"),\n",
    "    \"ZagZigEQ\": (\"implemented\", \"<b>a Zag-Zig debole</b> <it>(primo passo a calare e poi alterna ad ogni passo, con valori consecutivi che possono essere uguali)</it>\"),\n",
    "    \"132-free\": (\"not yet done\", \"<b>dal mondo delle permutazioni pattern free per un infinità di problemi in FPT</b>\"),\n",
    "         \"...\": (\"not thought of yet\", \"<b>???</b>\")\n",
    "    }\n",
    "\n",
    "    def Latex_type(seq_type):\n",
    "        return dictionary_of_types[seq_type][1].replace(\"_\", \"\\_\")\n",
    "\n",
    "\n",
    "    def is_seq_of_type(s, name_s, seq_type):\n",
    "        first_down = first_up = first_flat = None\n",
    "        for i in range(1,len(s)):\n",
    "            if s[i] < s[i-1]:\n",
    "                if seq_type==\"V\" and first_up != None:\n",
    "                    return (0,f\"La sequenza ${LaTexVarName(name_s)}$ non è di tipo {Latex_type('V')} poichè ${LaTexVarName(name_s)}[${i-1}$] = {s[i-2]} $<$ {s[i-1]} $= {LaTexVarName(name_s)}[${i}$] > {LaTexVarName(name_s)}[${i+1}$] =$ {s[i]}.\")\n",
    "                if seq_type in {\"SC\",\"ND\"} or (seq_type in {\"ZigZag\",\"ZigZagEQ\"} and s[i]%2 == 1) or (seq_type in {\"ZagZig\",\"ZagZigEQ\"} and s[i]%2 == 0):\n",
    "                    return (0,f\"La sequenza ${LaTexVarName(name_s)}$ non è di tipo {Latex_type(seq_type)} poichè ${LaTexVarName(name_s)}[${i}$] $= {s[i-1]} $>$ {s[i]} $= {LaTexVarName(name_s)}[${i+1}$]$.\")\n",
    "                if first_down == None:\n",
    "                    first_down = i\n",
    "                elif seq_type==\"N\":\n",
    "                    return (0,f\"La sequenza ${LaTexVarName(name_s)}$ non è di tipo {Latex_type(seq_type)} poichè ${LaTexVarName(name_s)}[${first_down}$] = {s[first_down-1]} $>$ {s[first_down]} $= {LaTexVarName(name_s)}[${first_down+1}$]$ e ${LaTexVarName(name_s)}[${i}$] =$ {s[i-1]} $>$ {s[i]} $= {LaTexVarName(name_s)}[${i+1}$]$.\")\n",
    "                if seq_type==\"SN\" and first_flat != None:\n",
    "                    return (0,f\"La sequenza ${LaTexVarName(name_s)}$ non è di tipo {Latex_type(seq_type)} poichè ${LaTexVarName(name_s)}[${first_flat}$] = {s[first_flat-1]} $=$ {s[first_flat]} $= {LaTexVarName(name_s)}[${first_flat+1}$]$ e ${LaTexVarName(name_s)}[${i}$] =$ {s[i-1]} $>$ {s[i]} $= {LaTexVarName(name_s)}[${i+1}$]$.\")\n",
    "            if s[i] > s[i-1]:\n",
    "                if seq_type==\"A\" and first_down != None:\n",
    "                    return (0,f\"La sequenza ${LaTexVarName(name_s)}$ non è di tipo {Latex_type('A')} poichè ${LaTexVarName(name_s)}[${i-1}$] =$ {s[i-2]} $>$ {s[i-1]} $= {LaTexVarName(name_s)}[${i}$] < {LaTexVarName(name_s)}[${i+1}$] =$ {s[i]}.\")\n",
    "                if seq_type in {\"SD\",\"NC\"} or (seq_type in {\"ZagZig\",\"ZagZigEQ\"} and s[i]%2 == 1) or (seq_type in {\"ZigZag\",\"ZigZagEQ\"} and s[i]%2 == 0):\n",
    "                    return (0,f\"La sequenza ${LaTexVarName(name_s)}$ non è di tipo {Latex_type(seq_type)} poichè ${LaTexVarName(name_s)}[${i}$] =$ {s[i-1]} $<$ {s[i]} $= {LaTexVarName(name_s)}[${i+1}$]$.\")\n",
    "                if first_up == None:\n",
    "                    first_up = i\n",
    "                elif seq_type==\"Z\":\n",
    "                    return (0,f\"La sequenza ${LaTexVarName(name_s)}$ non è di tipo {Latex_type(seq_type)} poichè ${LaTexVarName(name_s)}[${first_up}$] =$ {s[first_up-1]} $<$ {s[first_up]} $= {LaTexVarName(name_s)}[${first_up+1}$]$ e ${LaTexVarName(name_s)}[${i}$] =$ {s[i-1]} $<$ {s[i]} $= {LaTexVarName(name_s)}[${i+1}$]$.\")\n",
    "                if seq_type==\"SZ\" and first_flat != None:\n",
    "                    return (0,f\"La sequenza ${LaTexVarName(name_s)}$ non è di tipo {Latex_type(seq_type)} poichè ${LaTexVarName(name_s)}[${first_flat}$] =$ {s[first_flat-1]} $=$ {s[first_flat]} $= {LaTexVarName(name_s)}[${first_flat+1}$]$ e ${LaTexVarName(name_s)}[${i}$] =$ {s[i-1]} $<$ {s[i]} $= {LaTexVarName(name_s)}[${i+1}$]$.\")\n",
    "            if s[i] == s[i-1]:\n",
    "                if seq_type in {\"SC\",\"SD\",\"SV\",\"SA\",\"ZigZag\",\"ZagZig\"}:\n",
    "                    return (0,f\"La sequenza ${LaTexVarName(name_s)}$ non è di tipo {Latex_type(seq_type)} poichè ${LaTexVarName(name_s)}[${i}$] =$ {s[i-1]} $=$ {s[i]} $= {LaTexVarName(name_s)}[${i+1}$]$.\")\n",
    "                if first_flat == None:\n",
    "                    first_flat = i\n",
    "                elif seq_type in {\"SN\",\"SZ\"}:\n",
    "                    return (0,f\"La sequenza ${LaTexVarName(name_s)}$ non è di tipo {Latex_type(seq_type)} poichè ${LaTexVarName(name_s)}[${first_flat}$] =$ {s[first_flat-1]} $=$ {s[first_flat]} $= {LaTexVarName(name_s)}[${first_flat+1}$]$ e ${LaTexVarName(name_s)}[${i}$] =$ {s[i-1]} $=$ {s[i]} $= {LaTexVarName(name_s)}[${i+1}$]$.\")\n",
    "                if seq_type==\"SN\" and first_down != None:\n",
    "                    return (0,f\"La sequenza ${LaTexVarName(name_s)}$ non è di tipo {Latex_type(seq_type)} poichè ${LaTexVarName(name_s)}[${first_down}$] =$ {s[first_down-1]} $>$ {s[first_down]} $= {LaTexVarName(name_s)}[${first_down+1}$]$ e ${LaTexVarName(name_s)}[${i}$] =$ {s[i-1]} $=$ {s[i]} $= {LaTexVarName(name_s)}[${i+1}$]$.\")\n",
    "                if seq_type==\"SZ\" and first_up != None:\n",
    "                    return (0,f\"La sequenza ${LaTexVarName(name_s)}$ non è di tipo {Latex_type(seq_type)} poichè ${LaTexVarName(name_s)}[${first_up}$] =$ {s[first_up-1]} $<$ {s[first_up]} $= {LaTexVarName(name_s)}[${first_up+1}$]$ e ${LaTexVarName(name_s)}[${i}$] =$ {s[i-1]} $=$ {s[i]} $= {LaTexVarName(name_s)}[${i+1}$]$.\")\n",
    "        return (1,None)\n",
    "\n",
    "    def LaTexVarName(var_name):\n",
    "        return var_name.replace(\"_\", \"\\_\")\n",
    "\n",
    "\n",
    "    def is_subseq_of_type(s, name_s, subs, name_subs, subs_type, pt_green, pt_red, index_pt, forced_ele_pos = None, start_banned_interval = None, end_banned_interval = None):\n",
    "        submission_string = f\"Hai inserito il certificato ${LaTexVarName(name_subs)}={subs}$.\"\n",
    "        submission_string += f\"<br>L'istanza era data da ${LaTexVarName(name_s)}={s}$.<br>\"\n",
    "\n",
    "        if len(subs) == 0:\n",
    "            return submission_string + f\"{evaluation_format('No', 0,pt_red, index_pt)}\" + f\"La sequenza ${LaTexVarName(name_subs)}$ proposta è vuota.\"\n",
    "        if not is_seq_of_type(subs, \"subs\", subs_type)[0]:\n",
    "            return submission_string + evaluation_format(\"No\", 0,pt_red, index_pt) + is_seq_of_type(subs, \"subs\", subs_type)[1]\n",
    "        if start_banned_interval != None or end_banned_interval != None:\n",
    "            assert start_banned_interval != None and end_banned_interval != None\n",
    "            if forced_ele_pos != None:\n",
    "                assert forced_ele_pos < start_banned_interval or forced_ele_pos > end_banned_interval\n",
    "                if forced_ele_pos > end_banned_interval:\n",
    "                    forced_ele_pos -= end_banned_interval\n",
    "            aux = s[:start_banned_interval-1] +s[end_banned_interval:]\n",
    "        if not is_subseq(s, subs):\n",
    "            return submission_string + f\"{evaluation_format('No', 0,pt_red,index_pt)}\" + f\"La sequenza ${LaTexVarName(name_subs)}$ proposta non è sottosequenza di ${LaTexVarName(name_s)}$.\"\n",
    "        if forced_ele_pos != None:\n",
    "            forced_ele_0basedpos = forced_ele_pos-1\n",
    "            found_magic_point = False\n",
    "            for guess_0basedpos_in_subs in range(len(subs)):\n",
    "                if subs[guess_0basedpos_in_subs] == s[forced_ele_0basedpos]:\n",
    "                    if is_subseq(s[:forced_ele_0basedpos], subs[:guess_0basedpos_in_subs]) and is_subseq(s[forced_ele_0basedpos:], subs[guess_0basedpos_in_subs:]):\n",
    "                        found_magic_point = True#False\n",
    "            if not found_magic_point:\n",
    "                return submission_string + f\"{evaluation_format('No', 0,pt_red,index_pt)}\" + f\"La sequenza ${LaTexVarName(name_subs)}$ proposta non è sottosequenza di ${LaTexVarName(name_s)}$ che ne includa l'elemento in posizione ${forced_ele_pos}$.\"\n",
    "\n",
    "        return submission_string + f\"{evaluation_format('Si', pt_green,pt_red, index_pt)}\"\n",
    "\n",
    "    def eval_coloring(s, name_s, col, name_col, subs_type, pt_green, pt_red, index_pt):\n",
    "        submission_string = f\"Hai inserito il certificato ${LaTexVarName(name_col)}={col}$.\"\n",
    "        submission_string += f\"<br>L'istanza era data da ${LaTexVarName(name_s)}={s}$.<br>\"\n",
    "\n",
    "        for c in col:\n",
    "            subs = [s[i] for i in range(len(s)) if col[i] == c]\n",
    "            if not is_seq_of_type(subs, \"subs\", subs_type)[0]:\n",
    "                return submission_string + f\"{evaluation_format('No', 0,pt_red,index_pt)}\" + f\"Checking the subsequence of the elements colored with {c} within ${LaTexVarName(name_s)}$, that is {subs} ... \" + is_seq_of_type(subs, \"subs\", subs_type)[1]\n",
    "        return submission_string + f\"{evaluation_format('Si', pt_green ,pt_red, index_pt)}\"\n",
    "\n",
    "    def min_subs_of_type(s, name_s, subs, name_subs, subs_type, pt_green, pt_red, index_pt):\n",
    "        submission_string = f\"Hai inserito il certificato ${LaTexVarName(name_subs)}={subs}$.\"\n",
    "        submission_string += f\"<br>L'istanza era data da ${LaTexVarName(name_s)}={s}$.<br>\"\n",
    "\n",
    "        check={}\n",
    "        for n in s:\n",
    "            if n not in check.keys():\n",
    "                check[n]=1\n",
    "            else:\n",
    "                check[n]=check[n]+1\n",
    "        for elem in subs:\n",
    "            for n in elem:\n",
    "                if n in check.keys():\n",
    "                    check[n]=check[n]-1\n",
    "        for key in check.keys():\n",
    "            if check[key] != 0:\n",
    "                return submission_string + f\"{evaluation_format('No', 0,pt_red,index_pt)}\" + f\"Le tue sottosequenze non contengono tutti i valori di ${name_s}$\"\n",
    "        for elem in subs:\n",
    "            if not is_seq_of_type(elem, \"subs\", subs_type)[0]:\n",
    "                return submission_string + f\"{evaluation_format('No', 0,pt_red,index_pt)}\" + f\"Attenzione la sottosequenza ${elem}$ non è del tipo richiesto.\"\n",
    "\n",
    "        return submission_string + f\"{evaluation_format('Si', pt_green,pt_red,index_pt)}\"\n",
    "    "
   ]
  },
  {
   "cell_type": "markdown",
   "metadata": {
    "deletable": false,
    "editable": false,
    "hide_input": true,
    "init_cell": true
   },
   "source": [
    "Si consideri la seguente sequenza di numeri naturali:<br/><br/>[11, 21, 18, 12, 14, 31, 38, 58, 15, 37, 59, 19, 42, 29, 22, 56, 40, 17, 41, 13, 33, 35, 25, 16, 39, 49, 60, 54, 23]"
   ]
  },
  {
   "cell_type": "markdown",
   "metadata": {
    "deletable": false,
    "editable": false,
    "hide_input": true,
    "init_cell": true
   },
   "source": [
    "__Richiesta 1 [5 punti]__: Trovare una sottosequenza $subs1$ <b>strettamente crescente</b> di $s$ che sia la più lunga possibile."
   ]
  },
  {
   "cell_type": "code",
   "execution_count": null,
   "metadata": {
    "deletable": false,
    "init_cell": true
   },
   "outputs": [],
   "source": [
    "#Inserisci la risposta\n",
    "subs1=[]"
   ]
  },
  {
   "cell_type": "code",
   "execution_count": null,
   "metadata": {
    "deletable": false,
    "editable": false,
    "hide_input": true,
    "init_cell": true
   },
   "outputs": [],
   "source": [
    "display(Markdown(is_subseq_of_type(s, 's', subs1, 'subs1', 'SC', pt_green=1, pt_red=5,index_pt=0)))"
   ]
  },
  {
   "cell_type": "markdown",
   "metadata": {
    "deletable": false,
    "editable": false,
    "hide_input": true,
    "init_cell": true
   },
   "source": [
    "__Richiesta 2 [5 punti]__: Trovare una sottosequenza $subs2$  <b>strettamente decrescente</b> di $s$ che sia la più lunga possibile che escluda gli elementi dalla posizione 3 alla posizione 7."
   ]
  },
  {
   "cell_type": "code",
   "execution_count": null,
   "metadata": {
    "deletable": false,
    "init_cell": true
   },
   "outputs": [],
   "source": [
    "#Inserisci la risposta\n",
    "subs2=[]"
   ]
  },
  {
   "cell_type": "code",
   "execution_count": null,
   "metadata": {
    "deletable": false,
    "editable": false,
    "hide_input": true,
    "init_cell": true
   },
   "outputs": [],
   "source": [
    "display(Markdown(is_subseq_of_type(s, 's', subs2, 'subs2', 'SD', pt_green=1, pt_red=5,index_pt=1, start_banned_interval=3, end_banned_interval=7)))"
   ]
  },
  {
   "cell_type": "markdown",
   "metadata": {
    "deletable": false,
    "editable": false,
    "hide_input": true,
    "init_cell": true
   },
   "source": [
    "__Richiesta 3 [10 punti]__: Trovare la più lunga sottosequenza <b>strettamente crescente</b> che includa l'elemento in posizione 15"
   ]
  },
  {
   "cell_type": "code",
   "execution_count": null,
   "metadata": {
    "deletable": false,
    "init_cell": true
   },
   "outputs": [],
   "source": [
    "#Inserisci la risposta\n",
    "subs3=[]"
   ]
  },
  {
   "cell_type": "code",
   "execution_count": null,
   "metadata": {
    "deletable": false,
    "editable": false,
    "hide_input": true,
    "init_cell": true
   },
   "outputs": [],
   "source": [
    "display(Markdown(is_subseq_of_type(s, 's', subs3, 'subs3', 'SC', pt_green=1, pt_red=10,index_pt=2, forced_ele_pos=15)))"
   ]
  },
  {
   "cell_type": "markdown",
   "metadata": {
    "deletable": false,
    "editable": false,
    "hide_input": true,
    "init_cell": true
   },
   "source": [
    "__Richiesta 4 [10 punti]__: Una sequenza è detta <b>una V-sequenza</b>, se cala fino ad un certo punto, e da lì in poi cresce sempre. Trovare la più lunga sequenza di questo tipo che sia una sottosequenza della sequenza data."
   ]
  },
  {
   "cell_type": "code",
   "execution_count": null,
   "metadata": {
    "deletable": false,
    "init_cell": true
   },
   "outputs": [],
   "source": [
    "#Inserisci la risposta\n",
    "subs4=[]"
   ]
  },
  {
   "cell_type": "code",
   "execution_count": null,
   "metadata": {
    "deletable": false,
    "editable": false,
    "hide_input": true,
    "init_cell": true
   },
   "outputs": [],
   "source": [
    "display(Markdown(is_subseq_of_type(s, 's', subs4, 'subs4', 'V', pt_green=1, pt_red=10,index_pt=3)))"
   ]
  },
  {
   "cell_type": "markdown",
   "metadata": {
    "deletable": false,
    "editable": false,
    "hide_input": true,
    "init_cell": true
   },
   "source": [
    "__Richiesta 5 [20 punti]__: Qual è il minor numero possibile di colori _C_ per colorare gli elementi della sequenza in input in modo che, per ogni colore, la sottosequenza degli elementi di quel colore sia monotona <b>non-crescente</b>? Specificare per ogni elemento il colore (come colori, usare i numeri da 1 a _C_)"
   ]
  },
  {
   "cell_type": "code",
   "execution_count": null,
   "metadata": {
    "deletable": false,
    "init_cell": true
   },
   "outputs": [],
   "source": [
    "#Inserisci la risposta\n",
    "subs5=[]"
   ]
  },
  {
   "cell_type": "code",
   "execution_count": null,
   "metadata": {
    "deletable": false,
    "editable": false,
    "hide_input": true,
    "init_cell": true
   },
   "outputs": [],
   "source": [
    "display(Markdown(eval_coloring(s, 's', subs5, 'subs5', 'NC', pt_green=2, pt_red=20,index_pt=4)))"
   ]
  },
  {
   "cell_type": "code",
   "execution_count": null,
   "metadata": {
    "deletable": false,
    "editable": false,
    "hide_input": true,
    "init_cell": true,
    "tags": [
     "run_start",
     "noexport"
    ]
   },
   "outputs": [],
   "source": [
    "import os\n",
    "import time\n",
    "from urllib.request import urlopen\n",
    "import nbformat\n",
    "from traitlets.config import Config\n",
    "from nbconvert import HTMLExporter\n",
    "from nbconvert import RSTExporter, NotebookExporter\n",
    "from IPython.display import Image, HTML, Javascript\n",
    "from datetime import datetime\n",
    "\n",
    "import shutil\n",
    "last ='preview_last/' #path of last submission\n",
    "old = 'preview_old/' #path of prevous submissions\n",
    "\n",
    "#hide alert buttons\n",
    "def hide_w(w):\n",
    "    for e in w:\n",
    "        e.layout.visibility = 'hidden'\n",
    "\n",
    "#show alert buttons\n",
    "def show_w(w):\n",
    "    for e in w:\n",
    "        e.layout.visibility = 'visible'\n",
    "\n",
    "def are_you_sure():\n",
    "    show_w(alert_buttons)\n",
    "\n",
    "label = widgets.Label(value=\"Un tuo elaborato era giÃ  stato precedentemente prodotto. Vuoi rimpiazzarlo con il presente?\")\n",
    "yes = widgets.Button(description=\"Si\", tooltip=\"Produce il nuovo elaborato. Esso diviene la versione attuale prendendo il posto del precedente\")\n",
    "no = widgets.Button(description=\"No\")\n",
    "\n",
    "alert_buttons = [label,yes,no]\n",
    "hide_w(alert_buttons)\n",
    "\n",
    "#move all files from last to old and save the new preview\n",
    "def yes_clicked(b):\n",
    "    files = os.listdir(last)\n",
    "    for f in files:\n",
    "        if f == '.ipynb_checkpoints':\n",
    "            continue\n",
    "        if not os.path.isdir('./preview_old'):\n",
    "            os.mkdir(old)\n",
    "        shutil.move(last+f, old)\n",
    "    display(Javascript('IPython.notebook.save_checkpoint();'))\n",
    "    now = datetime.now() # current date and time\n",
    "    date_time = now.strftime(\"%Y-%m-%d-%H-%M-%S\")\n",
    "    hname = 'Esercizio_02.ipynb'[:-6] + '_' + date_time\n",
    "    ! jupyter nbconvert Esercizio_02.ipynb --to html_embed --output=$hname --output-dir=./preview_last/ --TagRemovePreprocessor.remove_cell_tags=\"['noexport']\"\n",
    "    display(Javascript('window.open(\"./preview_last/' + hname + '.html\")'))\n",
    "    hide_w(alert_buttons)\n",
    "def no_clicked(b):\n",
    "    hide_w(alert_buttons)\n",
    "\n",
    "\n",
    "def generate_preview_HTML(_):\n",
    "    if not os.path.isdir('./preview_last'):\n",
    "        os.mkdir(last)\n",
    "    directory= os.listdir(last)\n",
    "    if len(directory) <1:\n",
    "        display(Javascript('IPython.notebook.save_checkpoint();'))\n",
    "        now = datetime.now() # current date and time\n",
    "        date_time = now.strftime(\"%Y-%m-%d-%H-%M-%S\")\n",
    "        hname = 'Esercizio_02.ipynb'[:-6] + '_' + date_time\n",
    "        ! jupyter nbconvert Esercizio_02.ipynb --to html_embed --output=$hname --output-dir=./preview_last/ --TagRemovePreprocessor.remove_cell_tags=\"['noexport']\"\n",
    "        display(Javascript('window.open(\"./preview_last/' + hname + '.html\")'))\n",
    "    else:\n",
    "        are_you_sure()\n",
    "\n",
    "\n",
    "button = widgets.Button(description=\"Salva & Esporta\", tooltip=\"Esporta il foglio Jupyter in HTML nella cartella preview\")\n",
    "output = widgets.Output()\n",
    "button.on_click(generate_preview_HTML)\n",
    "yes.on_click(yes_clicked)\n",
    "no.on_click(no_clicked)\n",
    "h_box1 = widgets.HBox([button])\n",
    "h_box2 = widgets.HBox([label,yes,no])\n",
    "display(widgets.VBox([h_box1,h_box2]))\n"
   ]
  }
 ],
 "metadata": {},
 "nbformat": 4,
 "nbformat_minor": 4
}
